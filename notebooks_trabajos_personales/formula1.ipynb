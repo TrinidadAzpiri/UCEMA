{
 "cells": [
  {
   "cell_type": "code",
   "execution_count": 7,
   "metadata": {
    "collapsed": true
   },
   "outputs": [
    {
     "data": {
      "text/plain": "   auto tiempo_vuelta\n0     3       1:39.60\n1     3       1:39.60\n2     3       1:39.60",
      "text/html": "<div>\n<style scoped>\n    .dataframe tbody tr th:only-of-type {\n        vertical-align: middle;\n    }\n\n    .dataframe tbody tr th {\n        vertical-align: top;\n    }\n\n    .dataframe thead th {\n        text-align: right;\n    }\n</style>\n<table border=\"1\" class=\"dataframe\">\n  <thead>\n    <tr style=\"text-align: right;\">\n      <th></th>\n      <th>auto</th>\n      <th>tiempo_vuelta</th>\n    </tr>\n  </thead>\n  <tbody>\n    <tr>\n      <th>0</th>\n      <td>3</td>\n      <td>1:39.60</td>\n    </tr>\n    <tr>\n      <th>1</th>\n      <td>3</td>\n      <td>1:39.60</td>\n    </tr>\n    <tr>\n      <th>2</th>\n      <td>3</td>\n      <td>1:39.60</td>\n    </tr>\n  </tbody>\n</table>\n</div>"
     },
     "execution_count": 7,
     "metadata": {},
     "output_type": "execute_result"
    }
   ],
   "source": [
    "dataframe_en_dict = {\"auto\":1,\"tiempo_vuelta\":\"1:36.60\",\n",
    "                     \"auto\":2,\"tiempo_vuelta\":\"1:38.60\",\n",
    "                        \"auto\":3,\"tiempo_vuelta\":\"1:39.60\"}\n",
    "\n",
    "import pandas as pd\n",
    "\n",
    "df = pd.DataFrame(dataframe_en_dict, index=[0,1,2])\n",
    "df"
   ]
  },
  {
   "cell_type": "code",
   "execution_count": 9,
   "outputs": [],
   "source": [
    "\n",
    "def time_to_seconds(time):\n",
    "    hours_in_seconds = int(time.split(\":\")[0]) * 3600\n",
    "    minutes_in_seconds = int(time[0]) * 60\n",
    "    seconds_in_seconds =  int(time.split(\".\")[1])\n",
    "    return hours_in_seconds + minutes_in_seconds + seconds_in_seconds\n",
    "\n",
    "df[\"tiempo_vuelta\"] = df[\"tiempo_vuelta\"].apply(time_to_seconds)"
   ],
   "metadata": {
    "collapsed": false
   }
  },
  {
   "cell_type": "code",
   "execution_count": 10,
   "outputs": [
    {
     "data": {
      "text/plain": "   auto  tiempo_vuelta\n0     3           3720\n1     3           3720\n2     3           3720",
      "text/html": "<div>\n<style scoped>\n    .dataframe tbody tr th:only-of-type {\n        vertical-align: middle;\n    }\n\n    .dataframe tbody tr th {\n        vertical-align: top;\n    }\n\n    .dataframe thead th {\n        text-align: right;\n    }\n</style>\n<table border=\"1\" class=\"dataframe\">\n  <thead>\n    <tr style=\"text-align: right;\">\n      <th></th>\n      <th>auto</th>\n      <th>tiempo_vuelta</th>\n    </tr>\n  </thead>\n  <tbody>\n    <tr>\n      <th>0</th>\n      <td>3</td>\n      <td>3720</td>\n    </tr>\n    <tr>\n      <th>1</th>\n      <td>3</td>\n      <td>3720</td>\n    </tr>\n    <tr>\n      <th>2</th>\n      <td>3</td>\n      <td>3720</td>\n    </tr>\n  </tbody>\n</table>\n</div>"
     },
     "execution_count": 10,
     "metadata": {},
     "output_type": "execute_result"
    }
   ],
   "source": [
    "df"
   ],
   "metadata": {
    "collapsed": false
   }
  },
  {
   "cell_type": "code",
   "execution_count": null,
   "outputs": [],
   "source": [],
   "metadata": {
    "collapsed": false
   }
  }
 ],
 "metadata": {
  "kernelspec": {
   "display_name": "Python 3",
   "language": "python",
   "name": "python3"
  },
  "language_info": {
   "codemirror_mode": {
    "name": "ipython",
    "version": 2
   },
   "file_extension": ".py",
   "mimetype": "text/x-python",
   "name": "python",
   "nbconvert_exporter": "python",
   "pygments_lexer": "ipython2",
   "version": "2.7.6"
  }
 },
 "nbformat": 4,
 "nbformat_minor": 0
}
