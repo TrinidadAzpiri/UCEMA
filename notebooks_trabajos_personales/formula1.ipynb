{
 "cells": [
  {
   "cell_type": "code",
   "execution_count": 11,
   "metadata": {
    "collapsed": true
   },
   "outputs": [
    {
     "data": {
      "text/plain": "   auto tiempo_vuelta\n0     3       1:39.60\n1     3       1:39.60\n2     3       1:39.60",
      "text/html": "<div>\n<style scoped>\n    .dataframe tbody tr th:only-of-type {\n        vertical-align: middle;\n    }\n\n    .dataframe tbody tr th {\n        vertical-align: top;\n    }\n\n    .dataframe thead th {\n        text-align: right;\n    }\n</style>\n<table border=\"1\" class=\"dataframe\">\n  <thead>\n    <tr style=\"text-align: right;\">\n      <th></th>\n      <th>auto</th>\n      <th>tiempo_vuelta</th>\n    </tr>\n  </thead>\n  <tbody>\n    <tr>\n      <th>0</th>\n      <td>3</td>\n      <td>1:39.60</td>\n    </tr>\n    <tr>\n      <th>1</th>\n      <td>3</td>\n      <td>1:39.60</td>\n    </tr>\n    <tr>\n      <th>2</th>\n      <td>3</td>\n      <td>1:39.60</td>\n    </tr>\n  </tbody>\n</table>\n</div>"
     },
     "execution_count": 11,
     "metadata": {},
     "output_type": "execute_result"
    }
   ],
   "source": [
    "dataframe_en_dict = {\"auto\":1,\"tiempo_vuelta\":\"1:36.60\",\n",
    "                     \"auto\":2,\"tiempo_vuelta\":\"1:38.60\",\n",
    "                        \"auto\":3,\"tiempo_vuelta\":\"1:39.60\"}\n",
    "\n",
    "import pandas as pd\n",
    "\n",
    "df = pd.DataFrame(dataframe_en_dict, index=[0,1,2])\n",
    "df"
   ]
  },
  {
   "cell_type": "code",
   "execution_count": 12,
   "outputs": [],
   "source": [
    "\n",
    "def time_to_seconds(time):\n",
    "    hours_in_seconds = int(time.split(\":\")[0]) * 3600\n",
    "    minutes_in_seconds = int(time[0]) * 60\n",
    "    seconds_in_seconds =  int(time.split(\".\")[1])\n",
    "    return hours_in_seconds + minutes_in_seconds + seconds_in_seconds\n",
    "\n",
    "df[\"tiempo_vuelta\"] = df[\"tiempo_vuelta\"].apply(time_to_seconds)"
   ],
   "metadata": {
    "collapsed": false
   }
  },
  {
   "cell_type": "code",
   "execution_count": 13,
   "outputs": [
    {
     "data": {
      "text/plain": "   auto  tiempo_vuelta\n0     3           3720\n1     3           3720\n2     3           3720",
      "text/html": "<div>\n<style scoped>\n    .dataframe tbody tr th:only-of-type {\n        vertical-align: middle;\n    }\n\n    .dataframe tbody tr th {\n        vertical-align: top;\n    }\n\n    .dataframe thead th {\n        text-align: right;\n    }\n</style>\n<table border=\"1\" class=\"dataframe\">\n  <thead>\n    <tr style=\"text-align: right;\">\n      <th></th>\n      <th>auto</th>\n      <th>tiempo_vuelta</th>\n    </tr>\n  </thead>\n  <tbody>\n    <tr>\n      <th>0</th>\n      <td>3</td>\n      <td>3720</td>\n    </tr>\n    <tr>\n      <th>1</th>\n      <td>3</td>\n      <td>3720</td>\n    </tr>\n    <tr>\n      <th>2</th>\n      <td>3</td>\n      <td>3720</td>\n    </tr>\n  </tbody>\n</table>\n</div>"
     },
     "execution_count": 13,
     "metadata": {},
     "output_type": "execute_result"
    }
   ],
   "source": [
    "df"
   ],
   "metadata": {
    "collapsed": false
   }
  },
  {
   "cell_type": "code",
   "execution_count": 14,
   "outputs": [],
   "source": [
    "#https://www.kaggle.com/datasets/aadiltajani/fia-f1-19502019-data?resource=download&select=qualifying_times_2006-2020.csv\n",
    "df_form1 = pd.read_csv(\"qualifying_times_2006-2020.csv\")"
   ],
   "metadata": {
    "collapsed": false
   }
  },
  {
   "cell_type": "code",
   "execution_count": 21,
   "outputs": [
    {
     "data": {
      "text/plain": "0       1:33.310\n1       1:33.579\n2       1:32.603\n3       1:32.433\n4       1:33.233\n          ...   \n6084    1:37.555\n6085    1:37.863\n6086    1:38.045\n6087    1:38.173\n6088    1:38.443\nName: Q1, Length: 6089, dtype: object"
     },
     "execution_count": 21,
     "metadata": {},
     "output_type": "execute_result"
    }
   ],
   "source": [
    "df_form1.Q1"
   ],
   "metadata": {
    "collapsed": false
   }
  },
  {
   "cell_type": "code",
   "execution_count": 49,
   "outputs": [],
   "source": [
    "\n",
    "def time_to_seconds2(time):\n",
    "    \"\"\" funcion que convierte un string de tiempo en segundos. Se asume que el string tiene el formato HH:MM:SS\n",
    "    \"\"\"\n",
    "\n",
    "    #if time is a float return 0\n",
    "    if type(time) == float:\n",
    "        return 0\n",
    "    # ------------------ normalizacion del string ------------------\n",
    "    #keep only numbers and dots\n",
    "    time = ''.join([i for i in time if i.isdigit() or i == '.' or i == ':'])\n",
    "    # if time is empty replace by 0\n",
    "    if time == '' or time == \"nan\":\n",
    "        return 0\n",
    "    # ------------------ preprocess part------------------\n",
    "    # esta es la primera parte del string\n",
    "    if time.find(\":\") == -1:\n",
    "        # si no tiene dos puntos, es un string de segundos\n",
    "        return float(time)\n",
    "    else:\n",
    "        # si tiene dos puntos, es un string de horas y minutos\n",
    "        # separo la parte de horas y minutos\n",
    "        time = time.split(\":\")\n",
    "        # si tiene dos puntos, pero no tiene minutos, es un string de horas\n",
    "        if len(time) == 2:\n",
    "            return float(time[0]) * 3600 + float(time[1])\n",
    "        # si tiene dos puntos y tiene minutos, es un string de horas, minutos y segundos\n",
    "        elif len(time) == 3:\n",
    "            return float(time[0]) * 3600 + float(time[1]) * 60 + float(time[2])\n",
    "\n"
   ],
   "metadata": {
    "collapsed": false
   }
  },
  {
   "cell_type": "code",
   "execution_count": 50,
   "outputs": [
    {
     "data": {
      "text/plain": "0       3633.310\n1       3633.579\n2       3632.603\n3       3632.433\n4       3633.233\n          ...   \n6084    3637.555\n6085    3637.863\n6086    3638.045\n6087    3638.173\n6088    3638.443\nName: Q1, Length: 6089, dtype: float64"
     },
     "execution_count": 50,
     "metadata": {},
     "output_type": "execute_result"
    }
   ],
   "source": [
    "df_form1.Q1.apply(time_to_seconds2)"
   ],
   "metadata": {
    "collapsed": false
   }
  },
  {
   "cell_type": "code",
   "execution_count": null,
   "outputs": [],
   "source": [],
   "metadata": {
    "collapsed": false
   }
  }
 ],
 "metadata": {
  "kernelspec": {
   "display_name": "Python 3",
   "language": "python",
   "name": "python3"
  },
  "language_info": {
   "codemirror_mode": {
    "name": "ipython",
    "version": 2
   },
   "file_extension": ".py",
   "mimetype": "text/x-python",
   "name": "python",
   "nbconvert_exporter": "python",
   "pygments_lexer": "ipython2",
   "version": "2.7.6"
  }
 },
 "nbformat": 4,
 "nbformat_minor": 0
}
