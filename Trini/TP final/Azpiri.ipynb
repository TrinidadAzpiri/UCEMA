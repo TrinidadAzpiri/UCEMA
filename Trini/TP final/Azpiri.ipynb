{
 "cells": [
  {
   "cell_type": "code",
   "execution_count": 52,
   "metadata": {
    "pycharm": {
     "name": "#%%\n"
    }
   },
   "outputs": [],
   "source": [
    "\n",
    "import pandas as pd\n",
    "import numpy as np\n",
    "import matplotlib.pyplot as plt\n",
    "import seaborn as sns\n",
    "import warnings\n",
    "warnings.filterwarnings('ignore')"
   ]
  },
  {
   "cell_type": "code",
   "execution_count": 53,
   "metadata": {
    "pycharm": {
     "name": "#%%\n"
    }
   },
   "outputs": [],
   "source": [
    "df = pd.read_csv(\"Copy of Career Mode player datasets - FIFA 15-21.csv\",sep=\";\", encoding='cp1252')"
   ]
  },
  {
   "cell_type": "code",
   "execution_count": 54,
   "metadata": {
    "pycharm": {
     "name": "#%%\n"
    }
   },
   "outputs": [
    {
     "data": {
      "text/plain": "   fifa_id         short_name                            long_name  age  \\\n0   158023           L. Messi       Lionel Andrés Messi Cuccittini   33   \n1    20801  Cristiano Ronaldo  Cristiano Ronaldo dos Santos Aveiro   35   \n2   200389           J. Oblak                            Jan Oblak   27   \n3   188545     R. Lewandowski                   Robert Lewandowski   31   \n4   190871          Neymar Jr        Neymar da Silva Santos Júnior   28   \n\n         dob  height_cm  weight_kg nationality            club_name  \\\n0  24/6/1987        170         72   Argentina         FC Barcelona   \n1   5/2/1985        187         83    Portugal             Juventus   \n2   7/1/1993        188         87    Slovenia      Atlético Madrid   \n3  21/8/1988        184         80      Poland    FC Bayern München   \n4   5/2/1992        175         68      Brazil  Paris Saint-Germain   \n\n              league_name  ...   lwb   ldm   cdm   rdm   rwb    lb   lcb  \\\n0  Spain Primera Division  ...  66+3  65+3  65+3  65+3  66+3  62+3  52+3   \n1         Italian Serie A  ...  65+3  61+3  61+3  61+3  65+3  61+3  54+3   \n2  Spain Primera Division  ...  32+3  36+3  36+3  36+3  32+3  32+3  33+3   \n3    German 1. Bundesliga  ...  64+3  65+3  65+3  65+3  64+3  61+3  60+3   \n4          French Ligue 1  ...  67+3  62+3  62+3  62+3  67+3  62+3  49+3   \n\n     cb   rcb    rb  \n0  52+3  52+3  62+3  \n1  54+3  54+3  61+3  \n2  33+3  33+3  32+3  \n3  60+3  60+3  61+3  \n4  49+3  49+3  62+3  \n\n[5 rows x 105 columns]",
      "text/html": "<div>\n<style scoped>\n    .dataframe tbody tr th:only-of-type {\n        vertical-align: middle;\n    }\n\n    .dataframe tbody tr th {\n        vertical-align: top;\n    }\n\n    .dataframe thead th {\n        text-align: right;\n    }\n</style>\n<table border=\"1\" class=\"dataframe\">\n  <thead>\n    <tr style=\"text-align: right;\">\n      <th></th>\n      <th>fifa_id</th>\n      <th>short_name</th>\n      <th>long_name</th>\n      <th>age</th>\n      <th>dob</th>\n      <th>height_cm</th>\n      <th>weight_kg</th>\n      <th>nationality</th>\n      <th>club_name</th>\n      <th>league_name</th>\n      <th>...</th>\n      <th>lwb</th>\n      <th>ldm</th>\n      <th>cdm</th>\n      <th>rdm</th>\n      <th>rwb</th>\n      <th>lb</th>\n      <th>lcb</th>\n      <th>cb</th>\n      <th>rcb</th>\n      <th>rb</th>\n    </tr>\n  </thead>\n  <tbody>\n    <tr>\n      <th>0</th>\n      <td>158023</td>\n      <td>L. Messi</td>\n      <td>Lionel Andrés Messi Cuccittini</td>\n      <td>33</td>\n      <td>24/6/1987</td>\n      <td>170</td>\n      <td>72</td>\n      <td>Argentina</td>\n      <td>FC Barcelona</td>\n      <td>Spain Primera Division</td>\n      <td>...</td>\n      <td>66+3</td>\n      <td>65+3</td>\n      <td>65+3</td>\n      <td>65+3</td>\n      <td>66+3</td>\n      <td>62+3</td>\n      <td>52+3</td>\n      <td>52+3</td>\n      <td>52+3</td>\n      <td>62+3</td>\n    </tr>\n    <tr>\n      <th>1</th>\n      <td>20801</td>\n      <td>Cristiano Ronaldo</td>\n      <td>Cristiano Ronaldo dos Santos Aveiro</td>\n      <td>35</td>\n      <td>5/2/1985</td>\n      <td>187</td>\n      <td>83</td>\n      <td>Portugal</td>\n      <td>Juventus</td>\n      <td>Italian Serie A</td>\n      <td>...</td>\n      <td>65+3</td>\n      <td>61+3</td>\n      <td>61+3</td>\n      <td>61+3</td>\n      <td>65+3</td>\n      <td>61+3</td>\n      <td>54+3</td>\n      <td>54+3</td>\n      <td>54+3</td>\n      <td>61+3</td>\n    </tr>\n    <tr>\n      <th>2</th>\n      <td>200389</td>\n      <td>J. Oblak</td>\n      <td>Jan Oblak</td>\n      <td>27</td>\n      <td>7/1/1993</td>\n      <td>188</td>\n      <td>87</td>\n      <td>Slovenia</td>\n      <td>Atlético Madrid</td>\n      <td>Spain Primera Division</td>\n      <td>...</td>\n      <td>32+3</td>\n      <td>36+3</td>\n      <td>36+3</td>\n      <td>36+3</td>\n      <td>32+3</td>\n      <td>32+3</td>\n      <td>33+3</td>\n      <td>33+3</td>\n      <td>33+3</td>\n      <td>32+3</td>\n    </tr>\n    <tr>\n      <th>3</th>\n      <td>188545</td>\n      <td>R. Lewandowski</td>\n      <td>Robert Lewandowski</td>\n      <td>31</td>\n      <td>21/8/1988</td>\n      <td>184</td>\n      <td>80</td>\n      <td>Poland</td>\n      <td>FC Bayern München</td>\n      <td>German 1. Bundesliga</td>\n      <td>...</td>\n      <td>64+3</td>\n      <td>65+3</td>\n      <td>65+3</td>\n      <td>65+3</td>\n      <td>64+3</td>\n      <td>61+3</td>\n      <td>60+3</td>\n      <td>60+3</td>\n      <td>60+3</td>\n      <td>61+3</td>\n    </tr>\n    <tr>\n      <th>4</th>\n      <td>190871</td>\n      <td>Neymar Jr</td>\n      <td>Neymar da Silva Santos Júnior</td>\n      <td>28</td>\n      <td>5/2/1992</td>\n      <td>175</td>\n      <td>68</td>\n      <td>Brazil</td>\n      <td>Paris Saint-Germain</td>\n      <td>French Ligue 1</td>\n      <td>...</td>\n      <td>67+3</td>\n      <td>62+3</td>\n      <td>62+3</td>\n      <td>62+3</td>\n      <td>67+3</td>\n      <td>62+3</td>\n      <td>49+3</td>\n      <td>49+3</td>\n      <td>49+3</td>\n      <td>62+3</td>\n    </tr>\n  </tbody>\n</table>\n<p>5 rows × 105 columns</p>\n</div>"
     },
     "execution_count": 54,
     "metadata": {},
     "output_type": "execute_result"
    }
   ],
   "source": [
    "df.head()"
   ]
  },
  {
   "cell_type": "code",
   "execution_count": 55,
   "metadata": {
    "pycharm": {
     "name": "#%%\n"
    }
   },
   "outputs": [
    {
     "name": "stdout",
     "output_type": "stream",
     "text": [
      "SHAPE:\n",
      "\n",
      "(18944, 105)\n",
      "------------------\n",
      "\n",
      "COLUMNS:\n",
      "\n",
      "Index(['fifa_id', 'short_name', 'long_name', 'age', 'dob', 'height_cm',\n",
      "       'weight_kg', 'nationality', 'club_name', 'league_name',\n",
      "       ...\n",
      "       'lwb', 'ldm', 'cdm', 'rdm', 'rwb', 'lb', 'lcb', 'cb', 'rcb', 'rb'],\n",
      "      dtype='object', length=105)\n",
      "------------------\n",
      "\n",
      "COLUMNS DATA TYPE:\n",
      "\n",
      "fifa_id        int64\n",
      "short_name    object\n",
      "long_name     object\n",
      "age            int64\n",
      "dob           object\n",
      "               ...  \n",
      "lb            object\n",
      "lcb           object\n",
      "cb            object\n",
      "rcb           object\n",
      "rb            object\n",
      "Length: 105, dtype: object\n",
      "------------------\n",
      "\n",
      "DESCRIBE:\n",
      "\n",
      "         fifa_id       age  height_cm  weight_kg  league_rank   overall  \\\n",
      "count   18944.00  18944.00   18944.00   18944.00     18719.00  18944.00   \n",
      "mean   226242.40     25.23     181.19      75.02         1.36     65.68   \n",
      "std     27171.09      4.70       6.83       7.06         0.74      7.00   \n",
      "min        41.00     16.00     155.00      50.00         1.00     47.00   \n",
      "25%    210030.50     21.00     176.00      70.00         1.00     61.00   \n",
      "50%    232314.50     25.00     181.00      75.00         1.00     66.00   \n",
      "75%    246760.25     29.00     186.00      80.00         1.00     70.00   \n",
      "max    258970.00     53.00     206.00     110.00         4.00     93.00   \n",
      "\n",
      "       potential     value_eur   wage_eur  international_reputation  ...  \\\n",
      "count   18944.00  1.894400e+04   18944.00                  18944.00  ...   \n",
      "mean       71.09  2.224813e+06    8675.85                      1.09  ...   \n",
      "std         6.11  5.102486e+06   19654.77                      0.36  ...   \n",
      "min        47.00  0.000000e+00       0.00                      1.00  ...   \n",
      "25%        67.00  3.000000e+05    1000.00                      1.00  ...   \n",
      "50%        71.00  6.500000e+05    3000.00                      1.00  ...   \n",
      "75%        75.00  1.800000e+06    7000.00                      1.00  ...   \n",
      "max        95.00  1.055000e+08  560000.00                      5.00  ...   \n",
      "\n",
      "       mentality_penalties  mentality_composure  defending_marking  \\\n",
      "count             18944.00             18944.00                0.0   \n",
      "mean                 48.05                57.98                NaN   \n",
      "std                  15.67                12.12                NaN   \n",
      "min                   6.00                12.00                NaN   \n",
      "25%                  38.75                50.00                NaN   \n",
      "50%                  49.00                59.00                NaN   \n",
      "75%                  60.00                66.00                NaN   \n",
      "max                  92.00                96.00                NaN   \n",
      "\n",
      "       defending_standing_tackle  defending_sliding_tackle  \\\n",
      "count                   18944.00                  18944.00   \n",
      "mean                       47.58                     45.55   \n",
      "std                        21.40                     20.95   \n",
      "min                         5.00                      4.00   \n",
      "25%                        27.00                     24.00   \n",
      "50%                        55.00                     52.00   \n",
      "75%                        65.00                     63.00   \n",
      "max                        93.00                     90.00   \n",
      "\n",
      "       goalkeeping_diving  goalkeeping_handling  goalkeeping_kicking  \\\n",
      "count            18944.00              18944.00             18944.00   \n",
      "mean                16.45                 16.24                16.10   \n",
      "std                 17.58                 16.85                16.52   \n",
      "min                  1.00                  1.00                 1.00   \n",
      "25%                  8.00                  8.00                 8.00   \n",
      "50%                 11.00                 11.00                11.00   \n",
      "75%                 14.00                 14.00                14.00   \n",
      "max                 90.00                 92.00                93.00   \n",
      "\n",
      "       goalkeeping_positioning  goalkeeping_reflexes  \n",
      "count                 18944.00              18944.00  \n",
      "mean                     16.23                 16.55  \n",
      "std                      17.02                 17.88  \n",
      "min                       1.00                  1.00  \n",
      "25%                       8.00                  8.00  \n",
      "50%                      11.00                 11.00  \n",
      "75%                      14.00                 14.00  \n",
      "max                      91.00                 90.00  \n",
      "\n",
      "[8 rows x 62 columns]\n",
      "------------------\n",
      "\n",
      "COUNT:\n",
      "\n",
      "fifa_id       18944\n",
      "short_name    18944\n",
      "long_name     18944\n",
      "age           18944\n",
      "dob           18944\n",
      "              ...  \n",
      "lb            18944\n",
      "lcb           18944\n",
      "cb            18944\n",
      "rcb           18944\n",
      "rb            18944\n",
      "Length: 105, dtype: int64\n",
      "------------------\n",
      "\n",
      "2 ROW SAMPLE:\n",
      "\n",
      "      fifa_id     short_name               long_name  age        dob  \\\n",
      "2477   234772  Salvi Sánchez  Salvador Sánchez Ponce   29  30/3/1991   \n",
      "7280   238685    P. Herrmann        Patrick Herrmann   32  16/3/1988   \n",
      "\n",
      "      height_cm  weight_kg nationality        club_name  \\\n",
      "2477        175         64       Spain         Cádiz CF   \n",
      "7280        180         80     Germany  SV Darmstadt 98   \n",
      "\n",
      "                 league_name  ...   lwb   ldm   cdm   rdm   rwb    lb   lcb  \\\n",
      "2477  Spain Primera Division  ...  60+2  55+2  55+2  55+2  60+2  57+2  46+2   \n",
      "7280    German 2. Bundesliga  ...  66+2  63+2  63+2  63+2  66+2  66+2  66+2   \n",
      "\n",
      "        cb   rcb    rb  \n",
      "2477  46+2  46+2  57+2  \n",
      "7280  66+2  66+2  66+2  \n",
      "\n",
      "[2 rows x 105 columns]\n",
      "------------------\n",
      "\n"
     ]
    }
   ],
   "source": [
    "#Hago un panorama general para explorar un poco el dataset(cantidad de filas y columnas, nombre de las columnas, tipo de datos,\n",
    "\n",
    "print(f'SHAPE:\\n\\n{df.shape}')\n",
    "print(f'------------------\\n')\n",
    "print(f'COLUMNS:\\n\\n{df.columns}')\n",
    "print(f'------------------\\n')\n",
    "print(f'COLUMNS DATA TYPE:\\n\\n{df.dtypes}')\n",
    "print(f'------------------\\n')\n",
    "print(f'DESCRIBE:\\n\\n{df.describe().round(2)}')\n",
    "print(f'------------------\\n')\n",
    "print(f'COUNT:\\n\\n{df.count()}')\n",
    "print(f'------------------\\n')\n",
    "print(f'2 ROW SAMPLE:\\n\\n{df.sample(2)}')\n",
    "print(f'------------------\\n')"
   ]
  },
  {
   "cell_type": "code",
   "execution_count": 56,
   "metadata": {
    "pycharm": {
     "name": "#%%\n"
    }
   },
   "outputs": [],
   "source": [
    "fifa = df"
   ]
  },
  {
   "cell_type": "code",
   "execution_count": 57,
   "metadata": {
    "pycharm": {
     "name": "#%%\n"
    }
   },
   "outputs": [
    {
     "data": {
      "text/plain": "       fifa_id         short_name                            long_name  age  \\\n0       158023           L. Messi       Lionel Andrés Messi Cuccittini   33   \n1        20801  Cristiano Ronaldo  Cristiano Ronaldo dos Santos Aveiro   35   \n2       200389           J. Oblak                            Jan Oblak   27   \n3       188545     R. Lewandowski                   Robert Lewandowski   31   \n4       190871          Neymar Jr        Neymar da Silva Santos Júnior   28   \n...        ...                ...                                  ...  ...   \n18939   256679          K. Angulo                         Kevin Angulo   24   \n18940   257710     Zhang Mengxuan                       Mengxuan Zhang   21   \n18941   250989      Wang Zhenghao                                  ???   20   \n18942   257697        Chen Zitong                          Zitong Chen   23   \n18943   257936           Song Yue                             Yue Song   28   \n\n             dob  height_cm  weight_kg nationality  \\\n0     1987-06-24        170         72   Argentina   \n1     1985-05-02        187         83    Portugal   \n2     1993-07-01        188         87    Slovenia   \n3     1988-08-21        184         80      Poland   \n4     1992-05-02        175         68      Brazil   \n...          ...        ...        ...         ...   \n18939 1996-04-13        176         73    Colombia   \n18940 1999-04-26        177         70    China PR   \n18941 2000-06-28        185         74    China PR   \n18942 1997-02-20        186         80    China PR   \n18943 1991-11-20        185         79    China PR   \n\n                                 club_name              league_name  ...  \\\n0                             FC Barcelona   Spain Primera Division  ...   \n1                                 Juventus          Italian Serie A  ...   \n2                          Atlético Madrid   Spain Primera Division  ...   \n3                        FC Bayern München     German 1. Bundesliga  ...   \n4                      Paris Saint-Germain           French Ligue 1  ...   \n...                                    ...                      ...  ...   \n18939                      América de Cali  Colombian Liga Postobón  ...   \n18940  Chongqing Dangdai Lifan FC SWM Team     Chinese Super League  ...   \n18941                      Tianjin TEDA FC     Chinese Super League  ...   \n18942        Shijiazhuang Ever Bright F.C.     Chinese Super League  ...   \n18943                      Tianjin TEDA FC     Chinese Super League  ...   \n\n        lwb   ldm   cdm   rdm   rwb    lb   lcb    cb   rcb    rb  \n0      66+3  65+3  65+3  65+3  66+3  62+3  52+3  52+3  52+3  62+3  \n1      65+3  61+3  61+3  61+3  65+3  61+3  54+3  54+3  54+3  61+3  \n2      32+3  36+3  36+3  36+3  32+3  32+3  33+3  33+3  33+3  32+3  \n3      64+3  65+3  65+3  65+3  64+3  61+3  60+3  60+3  60+3  61+3  \n4      67+3  62+3  62+3  62+3  67+3  62+3  49+3  49+3  49+3  62+3  \n...     ...   ...   ...   ...   ...   ...   ...   ...   ...   ...  \n18939  47+2  47+2  47+2  47+2  47+2  47+2  46+2  46+2  46+2  47+2  \n18940  42+2  41+2  41+2  41+2  42+2  45+2  47+2  47+2  47+2  45+2  \n18941  42+2  42+2  42+2  42+2  42+2  44+2  47+2  47+2  47+2  44+2  \n18942  47+2  49+2  49+2  49+2  47+2  47+2  49+2  49+2  49+2  47+2  \n18943  47+0  47+0  47+0  47+0  47+0  47+0  46+1  46+1  46+1  47+0  \n\n[18944 rows x 105 columns]",
      "text/html": "<div>\n<style scoped>\n    .dataframe tbody tr th:only-of-type {\n        vertical-align: middle;\n    }\n\n    .dataframe tbody tr th {\n        vertical-align: top;\n    }\n\n    .dataframe thead th {\n        text-align: right;\n    }\n</style>\n<table border=\"1\" class=\"dataframe\">\n  <thead>\n    <tr style=\"text-align: right;\">\n      <th></th>\n      <th>fifa_id</th>\n      <th>short_name</th>\n      <th>long_name</th>\n      <th>age</th>\n      <th>dob</th>\n      <th>height_cm</th>\n      <th>weight_kg</th>\n      <th>nationality</th>\n      <th>club_name</th>\n      <th>league_name</th>\n      <th>...</th>\n      <th>lwb</th>\n      <th>ldm</th>\n      <th>cdm</th>\n      <th>rdm</th>\n      <th>rwb</th>\n      <th>lb</th>\n      <th>lcb</th>\n      <th>cb</th>\n      <th>rcb</th>\n      <th>rb</th>\n    </tr>\n  </thead>\n  <tbody>\n    <tr>\n      <th>0</th>\n      <td>158023</td>\n      <td>L. Messi</td>\n      <td>Lionel Andrés Messi Cuccittini</td>\n      <td>33</td>\n      <td>1987-06-24</td>\n      <td>170</td>\n      <td>72</td>\n      <td>Argentina</td>\n      <td>FC Barcelona</td>\n      <td>Spain Primera Division</td>\n      <td>...</td>\n      <td>66+3</td>\n      <td>65+3</td>\n      <td>65+3</td>\n      <td>65+3</td>\n      <td>66+3</td>\n      <td>62+3</td>\n      <td>52+3</td>\n      <td>52+3</td>\n      <td>52+3</td>\n      <td>62+3</td>\n    </tr>\n    <tr>\n      <th>1</th>\n      <td>20801</td>\n      <td>Cristiano Ronaldo</td>\n      <td>Cristiano Ronaldo dos Santos Aveiro</td>\n      <td>35</td>\n      <td>1985-05-02</td>\n      <td>187</td>\n      <td>83</td>\n      <td>Portugal</td>\n      <td>Juventus</td>\n      <td>Italian Serie A</td>\n      <td>...</td>\n      <td>65+3</td>\n      <td>61+3</td>\n      <td>61+3</td>\n      <td>61+3</td>\n      <td>65+3</td>\n      <td>61+3</td>\n      <td>54+3</td>\n      <td>54+3</td>\n      <td>54+3</td>\n      <td>61+3</td>\n    </tr>\n    <tr>\n      <th>2</th>\n      <td>200389</td>\n      <td>J. Oblak</td>\n      <td>Jan Oblak</td>\n      <td>27</td>\n      <td>1993-07-01</td>\n      <td>188</td>\n      <td>87</td>\n      <td>Slovenia</td>\n      <td>Atlético Madrid</td>\n      <td>Spain Primera Division</td>\n      <td>...</td>\n      <td>32+3</td>\n      <td>36+3</td>\n      <td>36+3</td>\n      <td>36+3</td>\n      <td>32+3</td>\n      <td>32+3</td>\n      <td>33+3</td>\n      <td>33+3</td>\n      <td>33+3</td>\n      <td>32+3</td>\n    </tr>\n    <tr>\n      <th>3</th>\n      <td>188545</td>\n      <td>R. Lewandowski</td>\n      <td>Robert Lewandowski</td>\n      <td>31</td>\n      <td>1988-08-21</td>\n      <td>184</td>\n      <td>80</td>\n      <td>Poland</td>\n      <td>FC Bayern München</td>\n      <td>German 1. Bundesliga</td>\n      <td>...</td>\n      <td>64+3</td>\n      <td>65+3</td>\n      <td>65+3</td>\n      <td>65+3</td>\n      <td>64+3</td>\n      <td>61+3</td>\n      <td>60+3</td>\n      <td>60+3</td>\n      <td>60+3</td>\n      <td>61+3</td>\n    </tr>\n    <tr>\n      <th>4</th>\n      <td>190871</td>\n      <td>Neymar Jr</td>\n      <td>Neymar da Silva Santos Júnior</td>\n      <td>28</td>\n      <td>1992-05-02</td>\n      <td>175</td>\n      <td>68</td>\n      <td>Brazil</td>\n      <td>Paris Saint-Germain</td>\n      <td>French Ligue 1</td>\n      <td>...</td>\n      <td>67+3</td>\n      <td>62+3</td>\n      <td>62+3</td>\n      <td>62+3</td>\n      <td>67+3</td>\n      <td>62+3</td>\n      <td>49+3</td>\n      <td>49+3</td>\n      <td>49+3</td>\n      <td>62+3</td>\n    </tr>\n    <tr>\n      <th>...</th>\n      <td>...</td>\n      <td>...</td>\n      <td>...</td>\n      <td>...</td>\n      <td>...</td>\n      <td>...</td>\n      <td>...</td>\n      <td>...</td>\n      <td>...</td>\n      <td>...</td>\n      <td>...</td>\n      <td>...</td>\n      <td>...</td>\n      <td>...</td>\n      <td>...</td>\n      <td>...</td>\n      <td>...</td>\n      <td>...</td>\n      <td>...</td>\n      <td>...</td>\n      <td>...</td>\n    </tr>\n    <tr>\n      <th>18939</th>\n      <td>256679</td>\n      <td>K. Angulo</td>\n      <td>Kevin Angulo</td>\n      <td>24</td>\n      <td>1996-04-13</td>\n      <td>176</td>\n      <td>73</td>\n      <td>Colombia</td>\n      <td>América de Cali</td>\n      <td>Colombian Liga Postobón</td>\n      <td>...</td>\n      <td>47+2</td>\n      <td>47+2</td>\n      <td>47+2</td>\n      <td>47+2</td>\n      <td>47+2</td>\n      <td>47+2</td>\n      <td>46+2</td>\n      <td>46+2</td>\n      <td>46+2</td>\n      <td>47+2</td>\n    </tr>\n    <tr>\n      <th>18940</th>\n      <td>257710</td>\n      <td>Zhang Mengxuan</td>\n      <td>Mengxuan Zhang</td>\n      <td>21</td>\n      <td>1999-04-26</td>\n      <td>177</td>\n      <td>70</td>\n      <td>China PR</td>\n      <td>Chongqing Dangdai Lifan FC SWM Team</td>\n      <td>Chinese Super League</td>\n      <td>...</td>\n      <td>42+2</td>\n      <td>41+2</td>\n      <td>41+2</td>\n      <td>41+2</td>\n      <td>42+2</td>\n      <td>45+2</td>\n      <td>47+2</td>\n      <td>47+2</td>\n      <td>47+2</td>\n      <td>45+2</td>\n    </tr>\n    <tr>\n      <th>18941</th>\n      <td>250989</td>\n      <td>Wang Zhenghao</td>\n      <td>???</td>\n      <td>20</td>\n      <td>2000-06-28</td>\n      <td>185</td>\n      <td>74</td>\n      <td>China PR</td>\n      <td>Tianjin TEDA FC</td>\n      <td>Chinese Super League</td>\n      <td>...</td>\n      <td>42+2</td>\n      <td>42+2</td>\n      <td>42+2</td>\n      <td>42+2</td>\n      <td>42+2</td>\n      <td>44+2</td>\n      <td>47+2</td>\n      <td>47+2</td>\n      <td>47+2</td>\n      <td>44+2</td>\n    </tr>\n    <tr>\n      <th>18942</th>\n      <td>257697</td>\n      <td>Chen Zitong</td>\n      <td>Zitong Chen</td>\n      <td>23</td>\n      <td>1997-02-20</td>\n      <td>186</td>\n      <td>80</td>\n      <td>China PR</td>\n      <td>Shijiazhuang Ever Bright F.C.</td>\n      <td>Chinese Super League</td>\n      <td>...</td>\n      <td>47+2</td>\n      <td>49+2</td>\n      <td>49+2</td>\n      <td>49+2</td>\n      <td>47+2</td>\n      <td>47+2</td>\n      <td>49+2</td>\n      <td>49+2</td>\n      <td>49+2</td>\n      <td>47+2</td>\n    </tr>\n    <tr>\n      <th>18943</th>\n      <td>257936</td>\n      <td>Song Yue</td>\n      <td>Yue Song</td>\n      <td>28</td>\n      <td>1991-11-20</td>\n      <td>185</td>\n      <td>79</td>\n      <td>China PR</td>\n      <td>Tianjin TEDA FC</td>\n      <td>Chinese Super League</td>\n      <td>...</td>\n      <td>47+0</td>\n      <td>47+0</td>\n      <td>47+0</td>\n      <td>47+0</td>\n      <td>47+0</td>\n      <td>47+0</td>\n      <td>46+1</td>\n      <td>46+1</td>\n      <td>46+1</td>\n      <td>47+0</td>\n    </tr>\n  </tbody>\n</table>\n<p>18944 rows × 105 columns</p>\n</div>"
     },
     "execution_count": 57,
     "metadata": {},
     "output_type": "execute_result"
    }
   ],
   "source": [
    "#Cambio el formato de la columna dob ya que es una fecha\n",
    "fifa[\"dob\"]= pd.to_datetime(fifa[\"dob\"])\n",
    "fifa"
   ]
  },
  {
   "cell_type": "code",
   "execution_count": 58,
   "metadata": {
    "pycharm": {
     "name": "#%%\n"
    }
   },
   "outputs": [
    {
     "data": {
      "text/plain": "fifa_id       0\nshort_name    0\nlong_name     0\nage           0\ndob           0\n             ..\nlb            0\nlcb           0\ncb            0\nrcb           0\nrb            0\nLength: 105, dtype: int64"
     },
     "execution_count": 58,
     "metadata": {},
     "output_type": "execute_result"
    }
   ],
   "source": [
    "fifa.isnull().sum()"
   ]
  },
  {
   "cell_type": "code",
   "execution_count": 59,
   "metadata": {
    "pycharm": {
     "name": "#%%\n"
    }
   },
   "outputs": [
    {
     "data": {
      "text/plain": "Empty DataFrame\nColumns: [fifa_id, short_name, long_name, age, dob, height_cm, weight_kg, nationality, club_name, league_name, league_rank, overall, potential, value_eur, wage_eur, player_positions, preferred_foot, international_reputation, weak_foot, skill_moves, work_rate, body_type, real_face, release_clause_eur, player_tags, team_position, team_jersey_number, loaned_from, joined, contract_valid_until, nation_position, nation_jersey_number, pace, shooting, passing, dribbling, defending, physic, gk_diving, gk_handling, gk_kicking, gk_reflexes, gk_speed, gk_positioning, player_traits, attacking_crossing, attacking_finishing, attacking_heading_accuracy, attacking_short_passing, attacking_volleys, skill_dribbling, skill_curve, skill_fk_accuracy, skill_long_passing, skill_ball_control, movement_acceleration, movement_sprint_speed, movement_agility, movement_reactions, movement_balance, power_shot_power, power_jumping, power_stamina, power_strength, power_long_shots, mentality_aggression, mentality_interceptions, mentality_positioning, mentality_vision, mentality_penalties, mentality_composure, defending_marking, defending_standing_tackle, defending_sliding_tackle, goalkeeping_diving, goalkeeping_handling, goalkeeping_kicking, goalkeeping_positioning, goalkeeping_reflexes, ls, st, rs, lw, lf, cf, rf, rw, lam, cam, ram, lm, lcm, cm, rcm, rm, lwb, ldm, cdm, rdm, rwb, ...]\nIndex: []\n\n[0 rows x 105 columns]",
      "text/html": "<div>\n<style scoped>\n    .dataframe tbody tr th:only-of-type {\n        vertical-align: middle;\n    }\n\n    .dataframe tbody tr th {\n        vertical-align: top;\n    }\n\n    .dataframe thead th {\n        text-align: right;\n    }\n</style>\n<table border=\"1\" class=\"dataframe\">\n  <thead>\n    <tr style=\"text-align: right;\">\n      <th></th>\n      <th>fifa_id</th>\n      <th>short_name</th>\n      <th>long_name</th>\n      <th>age</th>\n      <th>dob</th>\n      <th>height_cm</th>\n      <th>weight_kg</th>\n      <th>nationality</th>\n      <th>club_name</th>\n      <th>league_name</th>\n      <th>...</th>\n      <th>lwb</th>\n      <th>ldm</th>\n      <th>cdm</th>\n      <th>rdm</th>\n      <th>rwb</th>\n      <th>lb</th>\n      <th>lcb</th>\n      <th>cb</th>\n      <th>rcb</th>\n      <th>rb</th>\n    </tr>\n  </thead>\n  <tbody>\n  </tbody>\n</table>\n<p>0 rows × 105 columns</p>\n</div>"
     },
     "execution_count": 59,
     "metadata": {},
     "output_type": "execute_result"
    }
   ],
   "source": [
    "fifa.dropna()"
   ]
  },
  {
   "cell_type": "code",
   "execution_count": 60,
   "metadata": {
    "pycharm": {
     "name": "#%%\n"
    }
   },
   "outputs": [
    {
     "data": {
      "text/plain": "   fifa_id         short_name                            long_name  age  \\\n0   158023           L. Messi       Lionel Andrés Messi Cuccittini   33   \n1    20801  Cristiano Ronaldo  Cristiano Ronaldo dos Santos Aveiro   35   \n2   200389           J. Oblak                            Jan Oblak   27   \n3   188545     R. Lewandowski                   Robert Lewandowski   31   \n4   190871          Neymar Jr        Neymar da Silva Santos Júnior   28   \n\n         dob  height_cm  weight_kg nationality            club_name  \\\n0 1987-06-24        170         72   Argentina         FC Barcelona   \n1 1985-05-02        187         83    Portugal             Juventus   \n2 1993-07-01        188         87    Slovenia      Atlético Madrid   \n3 1988-08-21        184         80      Poland    FC Bayern München   \n4 1992-05-02        175         68      Brazil  Paris Saint-Germain   \n\n              league_name  ...   lwb   ldm   cdm   rdm   rwb    lb   lcb  \\\n0  Spain Primera Division  ...  66+3  65+3  65+3  65+3  66+3  62+3  52+3   \n1         Italian Serie A  ...  65+3  61+3  61+3  61+3  65+3  61+3  54+3   \n2  Spain Primera Division  ...  32+3  36+3  36+3  36+3  32+3  32+3  33+3   \n3    German 1. Bundesliga  ...  64+3  65+3  65+3  65+3  64+3  61+3  60+3   \n4          French Ligue 1  ...  67+3  62+3  62+3  62+3  67+3  62+3  49+3   \n\n     cb   rcb    rb  \n0  52+3  52+3  62+3  \n1  54+3  54+3  61+3  \n2  33+3  33+3  32+3  \n3  60+3  60+3  61+3  \n4  49+3  49+3  62+3  \n\n[5 rows x 104 columns]",
      "text/html": "<div>\n<style scoped>\n    .dataframe tbody tr th:only-of-type {\n        vertical-align: middle;\n    }\n\n    .dataframe tbody tr th {\n        vertical-align: top;\n    }\n\n    .dataframe thead th {\n        text-align: right;\n    }\n</style>\n<table border=\"1\" class=\"dataframe\">\n  <thead>\n    <tr style=\"text-align: right;\">\n      <th></th>\n      <th>fifa_id</th>\n      <th>short_name</th>\n      <th>long_name</th>\n      <th>age</th>\n      <th>dob</th>\n      <th>height_cm</th>\n      <th>weight_kg</th>\n      <th>nationality</th>\n      <th>club_name</th>\n      <th>league_name</th>\n      <th>...</th>\n      <th>lwb</th>\n      <th>ldm</th>\n      <th>cdm</th>\n      <th>rdm</th>\n      <th>rwb</th>\n      <th>lb</th>\n      <th>lcb</th>\n      <th>cb</th>\n      <th>rcb</th>\n      <th>rb</th>\n    </tr>\n  </thead>\n  <tbody>\n    <tr>\n      <th>0</th>\n      <td>158023</td>\n      <td>L. Messi</td>\n      <td>Lionel Andrés Messi Cuccittini</td>\n      <td>33</td>\n      <td>1987-06-24</td>\n      <td>170</td>\n      <td>72</td>\n      <td>Argentina</td>\n      <td>FC Barcelona</td>\n      <td>Spain Primera Division</td>\n      <td>...</td>\n      <td>66+3</td>\n      <td>65+3</td>\n      <td>65+3</td>\n      <td>65+3</td>\n      <td>66+3</td>\n      <td>62+3</td>\n      <td>52+3</td>\n      <td>52+3</td>\n      <td>52+3</td>\n      <td>62+3</td>\n    </tr>\n    <tr>\n      <th>1</th>\n      <td>20801</td>\n      <td>Cristiano Ronaldo</td>\n      <td>Cristiano Ronaldo dos Santos Aveiro</td>\n      <td>35</td>\n      <td>1985-05-02</td>\n      <td>187</td>\n      <td>83</td>\n      <td>Portugal</td>\n      <td>Juventus</td>\n      <td>Italian Serie A</td>\n      <td>...</td>\n      <td>65+3</td>\n      <td>61+3</td>\n      <td>61+3</td>\n      <td>61+3</td>\n      <td>65+3</td>\n      <td>61+3</td>\n      <td>54+3</td>\n      <td>54+3</td>\n      <td>54+3</td>\n      <td>61+3</td>\n    </tr>\n    <tr>\n      <th>2</th>\n      <td>200389</td>\n      <td>J. Oblak</td>\n      <td>Jan Oblak</td>\n      <td>27</td>\n      <td>1993-07-01</td>\n      <td>188</td>\n      <td>87</td>\n      <td>Slovenia</td>\n      <td>Atlético Madrid</td>\n      <td>Spain Primera Division</td>\n      <td>...</td>\n      <td>32+3</td>\n      <td>36+3</td>\n      <td>36+3</td>\n      <td>36+3</td>\n      <td>32+3</td>\n      <td>32+3</td>\n      <td>33+3</td>\n      <td>33+3</td>\n      <td>33+3</td>\n      <td>32+3</td>\n    </tr>\n    <tr>\n      <th>3</th>\n      <td>188545</td>\n      <td>R. Lewandowski</td>\n      <td>Robert Lewandowski</td>\n      <td>31</td>\n      <td>1988-08-21</td>\n      <td>184</td>\n      <td>80</td>\n      <td>Poland</td>\n      <td>FC Bayern München</td>\n      <td>German 1. Bundesliga</td>\n      <td>...</td>\n      <td>64+3</td>\n      <td>65+3</td>\n      <td>65+3</td>\n      <td>65+3</td>\n      <td>64+3</td>\n      <td>61+3</td>\n      <td>60+3</td>\n      <td>60+3</td>\n      <td>60+3</td>\n      <td>61+3</td>\n    </tr>\n    <tr>\n      <th>4</th>\n      <td>190871</td>\n      <td>Neymar Jr</td>\n      <td>Neymar da Silva Santos Júnior</td>\n      <td>28</td>\n      <td>1992-05-02</td>\n      <td>175</td>\n      <td>68</td>\n      <td>Brazil</td>\n      <td>Paris Saint-Germain</td>\n      <td>French Ligue 1</td>\n      <td>...</td>\n      <td>67+3</td>\n      <td>62+3</td>\n      <td>62+3</td>\n      <td>62+3</td>\n      <td>67+3</td>\n      <td>62+3</td>\n      <td>49+3</td>\n      <td>49+3</td>\n      <td>49+3</td>\n      <td>62+3</td>\n    </tr>\n  </tbody>\n</table>\n<p>5 rows × 104 columns</p>\n</div>"
     },
     "execution_count": 60,
     "metadata": {},
     "output_type": "execute_result"
    }
   ],
   "source": [
    "#Borro la columna defending_marking ya que tiene todos valores nulos\n",
    "fifa = fifa.drop(columns = ['defending_marking'])\n",
    "fifa.head()"
   ]
  },
  {
   "cell_type": "code",
   "execution_count": 61,
   "metadata": {
    "pycharm": {
     "name": "#%%\n"
    }
   },
   "outputs": [
    {
     "data": {
      "text/plain": "       fifa_id         short_name                            long_name  age  \\\n0       158023           L. Messi       Lionel Andrés Messi Cuccittini   33   \n1        20801  Cristiano Ronaldo  Cristiano Ronaldo dos Santos Aveiro   35   \n2       200389           J. Oblak                            Jan Oblak   27   \n3       188545     R. Lewandowski                   Robert Lewandowski   31   \n4       190871          Neymar Jr        Neymar da Silva Santos Júnior   28   \n...        ...                ...                                  ...  ...   \n18939   256679          K. Angulo                         Kevin Angulo   24   \n18940   257710     Zhang Mengxuan                       Mengxuan Zhang   21   \n18941   250989      Wang Zhenghao                                  ???   20   \n18942   257697        Chen Zitong                          Zitong Chen   23   \n18943   257936           Song Yue                             Yue Song   28   \n\n         born_on  height_cm  weight_kg nationality  \\\n0     1987-06-24        170         72   Argentina   \n1     1985-05-02        187         83    Portugal   \n2     1993-07-01        188         87    Slovenia   \n3     1988-08-21        184         80      Poland   \n4     1992-05-02        175         68      Brazil   \n...          ...        ...        ...         ...   \n18939 1996-04-13        176         73    Colombia   \n18940 1999-04-26        177         70    China PR   \n18941 2000-06-28        185         74    China PR   \n18942 1997-02-20        186         80    China PR   \n18943 1991-11-20        185         79    China PR   \n\n                                 club_name              league_name  ...  \\\n0                             FC Barcelona   Spain Primera Division  ...   \n1                                 Juventus          Italian Serie A  ...   \n2                          Atlético Madrid   Spain Primera Division  ...   \n3                        FC Bayern München     German 1. Bundesliga  ...   \n4                      Paris Saint-Germain           French Ligue 1  ...   \n...                                    ...                      ...  ...   \n18939                      América de Cali  Colombian Liga Postobón  ...   \n18940  Chongqing Dangdai Lifan FC SWM Team     Chinese Super League  ...   \n18941                      Tianjin TEDA FC     Chinese Super League  ...   \n18942        Shijiazhuang Ever Bright F.C.     Chinese Super League  ...   \n18943                      Tianjin TEDA FC     Chinese Super League  ...   \n\n        lwb   ldm   cdm   rdm   rwb    lb   lcb    cb   rcb    rb  \n0      66+3  65+3  65+3  65+3  66+3  62+3  52+3  52+3  52+3  62+3  \n1      65+3  61+3  61+3  61+3  65+3  61+3  54+3  54+3  54+3  61+3  \n2      32+3  36+3  36+3  36+3  32+3  32+3  33+3  33+3  33+3  32+3  \n3      64+3  65+3  65+3  65+3  64+3  61+3  60+3  60+3  60+3  61+3  \n4      67+3  62+3  62+3  62+3  67+3  62+3  49+3  49+3  49+3  62+3  \n...     ...   ...   ...   ...   ...   ...   ...   ...   ...   ...  \n18939  47+2  47+2  47+2  47+2  47+2  47+2  46+2  46+2  46+2  47+2  \n18940  42+2  41+2  41+2  41+2  42+2  45+2  47+2  47+2  47+2  45+2  \n18941  42+2  42+2  42+2  42+2  42+2  44+2  47+2  47+2  47+2  44+2  \n18942  47+2  49+2  49+2  49+2  47+2  47+2  49+2  49+2  49+2  47+2  \n18943  47+0  47+0  47+0  47+0  47+0  47+0  46+1  46+1  46+1  47+0  \n\n[18944 rows x 104 columns]",
      "text/html": "<div>\n<style scoped>\n    .dataframe tbody tr th:only-of-type {\n        vertical-align: middle;\n    }\n\n    .dataframe tbody tr th {\n        vertical-align: top;\n    }\n\n    .dataframe thead th {\n        text-align: right;\n    }\n</style>\n<table border=\"1\" class=\"dataframe\">\n  <thead>\n    <tr style=\"text-align: right;\">\n      <th></th>\n      <th>fifa_id</th>\n      <th>short_name</th>\n      <th>long_name</th>\n      <th>age</th>\n      <th>born_on</th>\n      <th>height_cm</th>\n      <th>weight_kg</th>\n      <th>nationality</th>\n      <th>club_name</th>\n      <th>league_name</th>\n      <th>...</th>\n      <th>lwb</th>\n      <th>ldm</th>\n      <th>cdm</th>\n      <th>rdm</th>\n      <th>rwb</th>\n      <th>lb</th>\n      <th>lcb</th>\n      <th>cb</th>\n      <th>rcb</th>\n      <th>rb</th>\n    </tr>\n  </thead>\n  <tbody>\n    <tr>\n      <th>0</th>\n      <td>158023</td>\n      <td>L. Messi</td>\n      <td>Lionel Andrés Messi Cuccittini</td>\n      <td>33</td>\n      <td>1987-06-24</td>\n      <td>170</td>\n      <td>72</td>\n      <td>Argentina</td>\n      <td>FC Barcelona</td>\n      <td>Spain Primera Division</td>\n      <td>...</td>\n      <td>66+3</td>\n      <td>65+3</td>\n      <td>65+3</td>\n      <td>65+3</td>\n      <td>66+3</td>\n      <td>62+3</td>\n      <td>52+3</td>\n      <td>52+3</td>\n      <td>52+3</td>\n      <td>62+3</td>\n    </tr>\n    <tr>\n      <th>1</th>\n      <td>20801</td>\n      <td>Cristiano Ronaldo</td>\n      <td>Cristiano Ronaldo dos Santos Aveiro</td>\n      <td>35</td>\n      <td>1985-05-02</td>\n      <td>187</td>\n      <td>83</td>\n      <td>Portugal</td>\n      <td>Juventus</td>\n      <td>Italian Serie A</td>\n      <td>...</td>\n      <td>65+3</td>\n      <td>61+3</td>\n      <td>61+3</td>\n      <td>61+3</td>\n      <td>65+3</td>\n      <td>61+3</td>\n      <td>54+3</td>\n      <td>54+3</td>\n      <td>54+3</td>\n      <td>61+3</td>\n    </tr>\n    <tr>\n      <th>2</th>\n      <td>200389</td>\n      <td>J. Oblak</td>\n      <td>Jan Oblak</td>\n      <td>27</td>\n      <td>1993-07-01</td>\n      <td>188</td>\n      <td>87</td>\n      <td>Slovenia</td>\n      <td>Atlético Madrid</td>\n      <td>Spain Primera Division</td>\n      <td>...</td>\n      <td>32+3</td>\n      <td>36+3</td>\n      <td>36+3</td>\n      <td>36+3</td>\n      <td>32+3</td>\n      <td>32+3</td>\n      <td>33+3</td>\n      <td>33+3</td>\n      <td>33+3</td>\n      <td>32+3</td>\n    </tr>\n    <tr>\n      <th>3</th>\n      <td>188545</td>\n      <td>R. Lewandowski</td>\n      <td>Robert Lewandowski</td>\n      <td>31</td>\n      <td>1988-08-21</td>\n      <td>184</td>\n      <td>80</td>\n      <td>Poland</td>\n      <td>FC Bayern München</td>\n      <td>German 1. Bundesliga</td>\n      <td>...</td>\n      <td>64+3</td>\n      <td>65+3</td>\n      <td>65+3</td>\n      <td>65+3</td>\n      <td>64+3</td>\n      <td>61+3</td>\n      <td>60+3</td>\n      <td>60+3</td>\n      <td>60+3</td>\n      <td>61+3</td>\n    </tr>\n    <tr>\n      <th>4</th>\n      <td>190871</td>\n      <td>Neymar Jr</td>\n      <td>Neymar da Silva Santos Júnior</td>\n      <td>28</td>\n      <td>1992-05-02</td>\n      <td>175</td>\n      <td>68</td>\n      <td>Brazil</td>\n      <td>Paris Saint-Germain</td>\n      <td>French Ligue 1</td>\n      <td>...</td>\n      <td>67+3</td>\n      <td>62+3</td>\n      <td>62+3</td>\n      <td>62+3</td>\n      <td>67+3</td>\n      <td>62+3</td>\n      <td>49+3</td>\n      <td>49+3</td>\n      <td>49+3</td>\n      <td>62+3</td>\n    </tr>\n    <tr>\n      <th>...</th>\n      <td>...</td>\n      <td>...</td>\n      <td>...</td>\n      <td>...</td>\n      <td>...</td>\n      <td>...</td>\n      <td>...</td>\n      <td>...</td>\n      <td>...</td>\n      <td>...</td>\n      <td>...</td>\n      <td>...</td>\n      <td>...</td>\n      <td>...</td>\n      <td>...</td>\n      <td>...</td>\n      <td>...</td>\n      <td>...</td>\n      <td>...</td>\n      <td>...</td>\n      <td>...</td>\n    </tr>\n    <tr>\n      <th>18939</th>\n      <td>256679</td>\n      <td>K. Angulo</td>\n      <td>Kevin Angulo</td>\n      <td>24</td>\n      <td>1996-04-13</td>\n      <td>176</td>\n      <td>73</td>\n      <td>Colombia</td>\n      <td>América de Cali</td>\n      <td>Colombian Liga Postobón</td>\n      <td>...</td>\n      <td>47+2</td>\n      <td>47+2</td>\n      <td>47+2</td>\n      <td>47+2</td>\n      <td>47+2</td>\n      <td>47+2</td>\n      <td>46+2</td>\n      <td>46+2</td>\n      <td>46+2</td>\n      <td>47+2</td>\n    </tr>\n    <tr>\n      <th>18940</th>\n      <td>257710</td>\n      <td>Zhang Mengxuan</td>\n      <td>Mengxuan Zhang</td>\n      <td>21</td>\n      <td>1999-04-26</td>\n      <td>177</td>\n      <td>70</td>\n      <td>China PR</td>\n      <td>Chongqing Dangdai Lifan FC SWM Team</td>\n      <td>Chinese Super League</td>\n      <td>...</td>\n      <td>42+2</td>\n      <td>41+2</td>\n      <td>41+2</td>\n      <td>41+2</td>\n      <td>42+2</td>\n      <td>45+2</td>\n      <td>47+2</td>\n      <td>47+2</td>\n      <td>47+2</td>\n      <td>45+2</td>\n    </tr>\n    <tr>\n      <th>18941</th>\n      <td>250989</td>\n      <td>Wang Zhenghao</td>\n      <td>???</td>\n      <td>20</td>\n      <td>2000-06-28</td>\n      <td>185</td>\n      <td>74</td>\n      <td>China PR</td>\n      <td>Tianjin TEDA FC</td>\n      <td>Chinese Super League</td>\n      <td>...</td>\n      <td>42+2</td>\n      <td>42+2</td>\n      <td>42+2</td>\n      <td>42+2</td>\n      <td>42+2</td>\n      <td>44+2</td>\n      <td>47+2</td>\n      <td>47+2</td>\n      <td>47+2</td>\n      <td>44+2</td>\n    </tr>\n    <tr>\n      <th>18942</th>\n      <td>257697</td>\n      <td>Chen Zitong</td>\n      <td>Zitong Chen</td>\n      <td>23</td>\n      <td>1997-02-20</td>\n      <td>186</td>\n      <td>80</td>\n      <td>China PR</td>\n      <td>Shijiazhuang Ever Bright F.C.</td>\n      <td>Chinese Super League</td>\n      <td>...</td>\n      <td>47+2</td>\n      <td>49+2</td>\n      <td>49+2</td>\n      <td>49+2</td>\n      <td>47+2</td>\n      <td>47+2</td>\n      <td>49+2</td>\n      <td>49+2</td>\n      <td>49+2</td>\n      <td>47+2</td>\n    </tr>\n    <tr>\n      <th>18943</th>\n      <td>257936</td>\n      <td>Song Yue</td>\n      <td>Yue Song</td>\n      <td>28</td>\n      <td>1991-11-20</td>\n      <td>185</td>\n      <td>79</td>\n      <td>China PR</td>\n      <td>Tianjin TEDA FC</td>\n      <td>Chinese Super League</td>\n      <td>...</td>\n      <td>47+0</td>\n      <td>47+0</td>\n      <td>47+0</td>\n      <td>47+0</td>\n      <td>47+0</td>\n      <td>47+0</td>\n      <td>46+1</td>\n      <td>46+1</td>\n      <td>46+1</td>\n      <td>47+0</td>\n    </tr>\n  </tbody>\n</table>\n<p>18944 rows × 104 columns</p>\n</div>"
     },
     "execution_count": 61,
     "metadata": {},
     "output_type": "execute_result"
    }
   ],
   "source": [
    "#Renombro la columna dob para que sea mas entendible\n",
    "fifa21 = fifa.rename(columns = {\"dob\": \"born_on\"})\n",
    "fifa21"
   ]
  },
  {
   "cell_type": "code",
   "execution_count": 62,
   "metadata": {
    "pycharm": {
     "name": "#%%\n"
    }
   },
   "outputs": [
    {
     "data": {
      "text/plain": "[33,\n 35,\n 27,\n 31,\n 28,\n 29,\n 21,\n 32,\n 34,\n 26,\n 25,\n 30,\n 20,\n 22,\n 24,\n 23,\n 19,\n 38,\n 42,\n 36,\n 37,\n 18,\n 17,\n 39,\n 40,\n 41,\n 16,\n 43,\n 53]"
     },
     "execution_count": 62,
     "metadata": {},
     "output_type": "execute_result"
    }
   ],
   "source": [
    "#Edades de los jugadores\n",
    "Edades = fifa21[\"age\"].unique().tolist()\n",
    "Edades"
   ]
  },
  {
   "cell_type": "code",
   "execution_count": 63,
   "metadata": {
    "pycharm": {
     "name": "#%%\n"
    }
   },
   "outputs": [
    {
     "name": "stdout",
     "output_type": "stream",
     "text": [
      "Mean Age of All Players: 25.22582347972973\n"
     ]
    },
    {
     "data": {
      "text/plain": "<Figure size 800x600 with 1 Axes>",
      "image/png": "[encoded data removed]"
     },
     "metadata": {},
     "output_type": "display_data"
    }
   ],
   "source": [
    "#En el histograma vemos la distribución de edad de los jugadores y tenemos una edad promedio de 25.22\n",
    "\n",
    "plt.figure(dpi=125)\n",
    "sns.distplot(a=fifa21['age'],kde=False,bins=20,color='purple')\n",
    "plt.axvline(x=np.mean(fifa21['age']),c='green',ls='--',label='Mean Age of All Players')\n",
    "plt.legend()\n",
    "plt.xlabel('Age')\n",
    "plt.ylabel('Count')\n",
    "plt.title('Distribution of Age')\n",
    "print('Mean Age of All Players:',np.mean(fifa['age']))\n",
    "plt.show()"
   ]
  },
  {
   "cell_type": "code",
   "execution_count": 64,
   "metadata": {
    "pycharm": {
     "name": "#%%\n"
    }
   },
   "outputs": [
    {
     "data": {
      "text/plain": "England             1685\nGermany             1189\nSpain               1072\nFrance               984\nArgentina            936\n                    ... \nSaint Lucia            1\nPapua New Guinea       1\nAruba                  1\nChad                   1\nNicaragua              1\nName: nationality, Length: 162, dtype: int64"
     },
     "execution_count": 64,
     "metadata": {},
     "output_type": "execute_result"
    }
   ],
   "source": [
    "#cuantos jugadores hay por pais?\n",
    "fifa21['nationality'].value_counts()"
   ]
  },
  {
   "cell_type": "code",
   "execution_count": 65,
   "metadata": {
    "pycharm": {
     "name": "#%%\n"
    }
   },
   "outputs": [
    {
     "data": {
      "text/plain": "<AxesSubplot:>"
     },
     "execution_count": 65,
     "metadata": {},
     "output_type": "execute_result"
    },
    {
     "data": {
      "text/plain": "<Figure size 640x480 with 1 Axes>",
      "image/png": "[encoded data removed]"
     },
     "metadata": {},
     "output_type": "display_data"
    }
   ],
   "source": [
    "#Filtro algunos paises\n",
    "algunos_paises = fifa21['nationality'].value_counts()[0:10]\n",
    "algunos_paises\n",
    "algunos_paises.plot.bar()\n"
   ]
  },
  {
   "cell_type": "markdown",
   "metadata": {
    "pycharm": {
     "name": "#%% md\n"
    }
   },
   "source": [
    "Busco outliers/valores atipicos"
   ]
  },
  {
   "cell_type": "code",
   "execution_count": 66,
   "metadata": {
    "pycharm": {
     "name": "#%%\n"
    }
   },
   "outputs": [
    {
     "data": {
      "text/plain": "          short_name  overall\n0           L. Messi       93\n1  Cristiano Ronaldo       92\n2           J. Oblak       91",
      "text/html": "<div>\n<style scoped>\n    .dataframe tbody tr th:only-of-type {\n        vertical-align: middle;\n    }\n\n    .dataframe tbody tr th {\n        vertical-align: top;\n    }\n\n    .dataframe thead th {\n        text-align: right;\n    }\n</style>\n<table border=\"1\" class=\"dataframe\">\n  <thead>\n    <tr style=\"text-align: right;\">\n      <th></th>\n      <th>short_name</th>\n      <th>overall</th>\n    </tr>\n  </thead>\n  <tbody>\n    <tr>\n      <th>0</th>\n      <td>L. Messi</td>\n      <td>93</td>\n    </tr>\n    <tr>\n      <th>1</th>\n      <td>Cristiano Ronaldo</td>\n      <td>92</td>\n    </tr>\n    <tr>\n      <th>2</th>\n      <td>J. Oblak</td>\n      <td>91</td>\n    </tr>\n  </tbody>\n</table>\n</div>"
     },
     "execution_count": 66,
     "metadata": {},
     "output_type": "execute_result"
    }
   ],
   "source": [
    "players_overall = fifa21[[\"short_name\", \"overall\"]]\n",
    "players_overall.head()\n",
    "players_overall.nlargest(3,\"overall\")\n"
   ]
  },
  {
   "cell_type": "code",
   "execution_count": 67,
   "metadata": {
    "pycharm": {
     "name": "#%%\n"
    }
   },
   "outputs": [
    {
     "data": {
      "text/plain": "      short_name  wage_eur\n0       L. Messi    560000\n5   K. De Bruyne    370000\n15    K. Benzema    350000",
      "text/html": "<div>\n<style scoped>\n    .dataframe tbody tr th:only-of-type {\n        vertical-align: middle;\n    }\n\n    .dataframe tbody tr th {\n        vertical-align: top;\n    }\n\n    .dataframe thead th {\n        text-align: right;\n    }\n</style>\n<table border=\"1\" class=\"dataframe\">\n  <thead>\n    <tr style=\"text-align: right;\">\n      <th></th>\n      <th>short_name</th>\n      <th>wage_eur</th>\n    </tr>\n  </thead>\n  <tbody>\n    <tr>\n      <th>0</th>\n      <td>L. Messi</td>\n      <td>560000</td>\n    </tr>\n    <tr>\n      <th>5</th>\n      <td>K. De Bruyne</td>\n      <td>370000</td>\n    </tr>\n    <tr>\n      <th>15</th>\n      <td>K. Benzema</td>\n      <td>350000</td>\n    </tr>\n  </tbody>\n</table>\n</div>"
     },
     "execution_count": 67,
     "metadata": {},
     "output_type": "execute_result"
    }
   ],
   "source": [
    "#Acá considero que hay un outlier en cuanto al salario que gana Messi ya que este es superior al resto\n",
    "players_wage = fifa21[[\"short_name\", \"wage_eur\"]]\n",
    "players_wage.head()\n",
    "players_wage.nlargest(3,\"wage_eur\")"
   ]
  },
  {
   "cell_type": "code",
   "execution_count": null,
   "metadata": {
    "pycharm": {
     "name": "#%%\n",
     "is_executing": true
    }
   },
   "outputs": [],
   "source": [
    "players_wage.plot(x ='short_name', y='wage_eur', kind = 'scatter', figsize=(15, 10))"
   ]
  },
  {
   "cell_type": "code",
   "execution_count": null,
   "metadata": {
    "pycharm": {
     "name": "#%%\n",
     "is_executing": true
    }
   },
   "outputs": [],
   "source": [
    "players_value = fifa21[[\"short_name\", \"value_eur\"]]\n",
    "players_value.head()\n",
    "players_value.nlargest(3,\"value_eur\")"
   ]
  },
  {
   "cell_type": "code",
   "execution_count": null,
   "metadata": {
    "pycharm": {
     "name": "#%%\n",
     "is_executing": true
    }
   },
   "outputs": [],
   "source": [
    "#filtro las alturas de los jugadores\n",
    "players_heights = fifa21[[\"short_name\", \"height_cm\"]]\n",
    "players_heights.head()"
   ]
  },
  {
   "cell_type": "code",
   "execution_count": null,
   "metadata": {
    "pycharm": {
     "name": "#%%\n",
     "is_executing": true
    }
   },
   "outputs": [],
   "source": [
    "#Top 10 Jugadores más altos\n",
    "players_heights.nlargest(10, \"height_cm\")"
   ]
  },
  {
   "cell_type": "code",
   "execution_count": null,
   "metadata": {
    "pycharm": {
     "name": "#%%\n",
     "is_executing": true
    }
   },
   "outputs": [],
   "source": [
    "#Jugadores más altos en un gráfico, se puede ver perfectamente un outlier arriba a la izquierda\n",
    "Jugadores_mas_altos = players_heights.nlargest(10, \"height_cm\")\n",
    "Jugadores_mas_altos.plot(x ='short_name', y='height_cm', kind = 'scatter', figsize=(15, 10))"
   ]
  },
  {
   "cell_type": "markdown",
   "metadata": {},
   "source": []
  },
  {
   "cell_type": "code",
   "execution_count": null,
   "metadata": {
    "pycharm": {
     "name": "#%%\n",
     "is_executing": true
    }
   },
   "outputs": [],
   "source": [
    "#disparo de los jugadores\n",
    "player_shooting = fifa21[['short_name', 'shooting']]"
   ]
  },
  {
   "cell_type": "code",
   "execution_count": null,
   "metadata": {
    "pycharm": {
     "name": "#%%\n",
     "is_executing": true
    }
   },
   "outputs": [],
   "source": [
    "player_shooting.sort_values(by = ['shooting'], ascending = False).head()"
   ]
  },
  {
   "cell_type": "markdown",
   "metadata": {},
   "source": []
  },
  {
   "cell_type": "markdown",
   "metadata": {},
   "source": []
  },
  {
   "cell_type": "code",
   "execution_count": null,
   "metadata": {
    "pycharm": {
     "name": "#%%\n",
     "is_executing": true
    }
   },
   "outputs": [],
   "source": [
    "#Hago un agrupamiento de los jugadores con su edad, potencial y nacionalidad\n",
    "fifa21.groupby([\"nationality\",\"age\", \"potential\"]).short_name.agg(\"unique\")"
   ]
  },
  {
   "cell_type": "code",
   "execution_count": null,
   "metadata": {
    "pycharm": {
     "name": "#%%\n",
     "is_executing": true
    }
   },
   "outputs": [],
   "source": [
    "#Con este filtro podemos ver que el que tiene el puntaje más alto es Messi con 93 puntos\n",
    "fifa21[fifa21.overall==93]"
   ]
  },
  {
   "cell_type": "code",
   "execution_count": null,
   "metadata": {
    "pycharm": {
     "name": "#%%\n",
     "is_executing": true
    }
   },
   "outputs": [],
   "source": [
    "#Cuantas ligas hay? Cuantos jugadores tiene cada liga?\n",
    "print(fifa21['league_name'].nunique())\n",
    "fifa21['league_name'].value_counts()"
   ]
  },
  {
   "cell_type": "code",
   "execution_count": null,
   "metadata": {
    "pycharm": {
     "name": "#%%\n",
     "is_executing": true
    }
   },
   "outputs": [],
   "source": [
    "#Cuanto puntaje tiene en total cada país?\n",
    "puntaje_por_pais =fifa.groupby(\"nationality\").sum()[\"overall\"].to_frame()\n",
    "puntaje_por_pais.sort_values(axis=0,ascending=False,by=['overall'])"
   ]
  },
  {
   "cell_type": "code",
   "execution_count": null,
   "metadata": {
    "pycharm": {
     "name": "#%%\n",
     "is_executing": true
    }
   },
   "outputs": [],
   "source": [
    "#Veamoslo mejor en un gráfico de barras con algunos paises\n",
    "puntaje_por_pais.head(30).plot(kind='bar')"
   ]
  },
  {
   "cell_type": "code",
   "execution_count": null,
   "metadata": {
    "pycharm": {
     "name": "#%%\n",
     "is_executing": true
    }
   },
   "outputs": [],
   "source": [
    "#Salario de los jugadores\n",
    "wage_by_player = fifa21[['short_name', \"wage_eur\"]].sort_values(by=['wage_eur'],ascending=False)\n",
    "wage_by_player"
   ]
  },
  {
   "cell_type": "code",
   "execution_count": null,
   "metadata": {
    "pycharm": {
     "name": "#%%\n",
     "is_executing": true
    }
   },
   "outputs": [],
   "source": [
    "#Para un análisi mas profundo, me interesaba saber que pie es preferido para pegarle a la pelota, lo grafico para verlo con mas claridad\n",
    "plt.figure(dpi=125)\n",
    "sns.countplot('preferred_foot',data=fifa21,palette='Reds')\n",
    "plt.xlabel('Preferred Foot Players')\n",
    "plt.ylabel('Count')\n",
    "plt.title('Count of Preferred Foot')\n",
    "Right,Left=fifa21.preferred_foot.value_counts()\n",
    "print('Left Preferred',Left)\n",
    "print('Right Preferred',Right)\n",
    "plt.show()"
   ]
  },
  {
   "cell_type": "markdown",
   "source": [
    "Messi vs Ronaldo\n"
   ],
   "metadata": {
    "collapsed": false,
    "pycharm": {
     "name": "#%% md\n"
    }
   }
  },
  {
   "cell_type": "code",
   "execution_count": null,
   "metadata": {
    "pycharm": {
     "name": "#%%\n",
     "is_executing": true
    }
   },
   "outputs": [],
   "source": [
    "#Comparo a Messi con Ronaldo y vemos que según FIFA21 Messi es mejor que Ronaldo\n",
    "column_r=['short_name','overall','potential','pace','shooting','passing','dribbling','defending','physic', \"wage_eur\"]\n",
    "rival = fifa21.head(2)[column_r]\n",
    "rival= rival.set_index('short_name')\n",
    "rival.head()\n"
   ]
  },
  {
   "cell_type": "code",
   "execution_count": null,
   "metadata": {
    "pycharm": {
     "name": "#%%\n",
     "is_executing": true
    }
   },
   "outputs": [],
   "source": [
    "skills = ['pace',\n",
    " 'shooting',\n",
    " 'passing',\n",
    " 'dribbling',\n",
    "'defending',\n",
    " 'physic',\n",
    " 'player_traits',\n",
    " 'attacking_crossing',\n",
    " 'attacking_finishing',\n",
    " 'attacking_heading_accuracy',\n",
    " 'attacking_short_passing',\n",
    " 'attacking_volleys',\n",
    " 'skill_dribbling',\n",
    " 'skill_curve',\n",
    " 'skill_fk_accuracy',\n",
    " 'skill_long_passing',\n",
    " 'skill_ball_control',\n",
    " 'movement_acceleration',\n",
    " 'movement_sprint_speed',\n",
    " 'movement_agility',\n",
    " 'movement_reactions',\n",
    " 'movement_balance',\n",
    " 'power_shot_power',\n",
    " 'power_jumping',\n",
    " 'power_stamina',\n",
    " 'power_strength',\n",
    " 'power_long_shots']"
   ]
  },
  {
   "cell_type": "code",
   "execution_count": null,
   "metadata": {
    "pycharm": {
     "name": "#%%\n",
     "is_executing": true
    }
   },
   "outputs": [],
   "source": [
    "data = fifa21"
   ]
  },
  {
   "cell_type": "code",
   "execution_count": null,
   "metadata": {
    "pycharm": {
     "name": "#%%\n",
     "is_executing": true
    }
   },
   "outputs": [],
   "source": [
    "messi = fifa21.loc[fifa21['short_name'] == 'L. Messi']\n",
    "messi = pd.DataFrame(messi, columns = skills)\n",
    "ronaldo = fifa21.loc[data['short_name'] == 'Cristiano Ronaldo']\n",
    "ronaldo = pd.DataFrame(ronaldo, columns = skills)\n",
    "\n",
    "\n",
    "\n",
    "plt.figure(figsize=(15,8))\n",
    "sns.pointplot(data=messi,color='blue',alpha=0.6)\n",
    "sns.pointplot(data=ronaldo, color='red', alpha=0.6)\n",
    "\n",
    "\n",
    "plt.xticks(rotation=90)\n",
    "plt.xlabel('Skills', fontsize=20)\n",
    "plt.ylabel('Skill value', fontsize=20)\n",
    "plt.title('Messi vs Ronaldo', fontsize = 25)\n",
    "plt.grid()"
   ]
  },
  {
   "cell_type": "markdown",
   "metadata": {
    "pycharm": {
     "name": "#%% md\n"
    }
   },
   "source": [
    "Argentina"
   ]
  },
  {
   "cell_type": "code",
   "execution_count": null,
   "metadata": {
    "pycharm": {
     "name": "#%%\n",
     "is_executing": true
    }
   },
   "outputs": [],
   "source": [
    "#Me interesaba ver los jugadores de Argentina, sus edades, cuando nacieron, cuanto miden, donde juegan, su potencial, entre otros datos. Jugadores de Argentina:\n",
    "Argentina = fifa21[fifa21['nationality'] == 'Argentina']\n",
    "Argentina"
   ]
  },
  {
   "cell_type": "code",
   "execution_count": null,
   "metadata": {
    "pycharm": {
     "name": "#%%\n",
     "is_executing": true
    }
   },
   "outputs": [],
   "source": [
    "#Filtramos por los jugadores más altos de Argentina con sus otros datos\n",
    "Argentina.sort_values(by = ['height_cm'], ascending = False).head()"
   ]
  },
  {
   "cell_type": "code",
   "execution_count": null,
   "metadata": {
    "pycharm": {
     "name": "#%%\n",
     "is_executing": true
    },
    "scrolled": true
   },
   "outputs": [],
   "source": [
    "#Los jugadores con más peso de Argentina y sus datos\n",
    "Argentina.sort_values(by = ['weight_kg'], ascending = False).head()"
   ]
  },
  {
   "cell_type": "code",
   "execution_count": null,
   "metadata": {
    "pycharm": {
     "name": "#%%\n",
     "is_executing": true
    }
   },
   "outputs": [],
   "source": [
    "# Los jugadores Argentinos con más salarios y el resto de sus datos\n",
    "Argentina.sort_values(by = ['wage_eur'], ascending = False).head()"
   ]
  },
  {
   "cell_type": "markdown",
   "metadata": {
    "pycharm": {
     "name": "#%% md\n"
    }
   },
   "source": [
    "Analizando un poco con las ligas..."
   ]
  },
  {
   "cell_type": "code",
   "execution_count": null,
   "metadata": {
    "pycharm": {
     "name": "#%%\n",
     "is_executing": true
    }
   },
   "outputs": [],
   "source": [
    "columns = fifa21.columns"
   ]
  },
  {
   "cell_type": "code",
   "execution_count": null,
   "metadata": {
    "pycharm": {
     "name": "#%%\n",
     "is_executing": true
    }
   },
   "outputs": [],
   "source": [
    "#cantidad de jugadores que tiene Liverpool\n",
    "\n",
    "players_L = fifa21['club_name'] == 'Liverpool'\n",
    "fifa21.loc[players_L,['short_name']].count()"
   ]
  },
  {
   "cell_type": "code",
   "execution_count": null,
   "metadata": {
    "pycharm": {
     "name": "#%%\n",
     "is_executing": true
    }
   },
   "outputs": [],
   "source": [
    "#Promedio de edad en el Manchester City\n",
    "players_M = fifa21['club_name'] == 'Manchester City'\n",
    "fifa21.loc[players_M,['age']].mean()"
   ]
  },
  {
   "cell_type": "code",
   "execution_count": null,
   "metadata": {
    "pycharm": {
     "name": "#%%\n",
     "is_executing": true
    }
   },
   "outputs": [],
   "source": [
    "#Puntaje más alto en el Chelsea\n",
    "players_C = fifa21['club_name'] == 'Chelsea'\n",
    "fifa21.loc[players_C,['overall']].max()"
   ]
  },
  {
   "cell_type": "code",
   "execution_count": null,
   "metadata": {
    "pycharm": {
     "name": "#%%\n",
     "is_executing": true
    }
   },
   "outputs": [],
   "source": [
    "#Salario más alto  en el FC Barcelona\n",
    "\n",
    "players_C = fifa21['club_name'] == 'FC Barcelona'\n",
    "fifa21.loc[players_C,['wage_eur']].max()"
   ]
  }
 ],
 "metadata": {
  "kernelspec": {
   "display_name": "Python 3 (ipykernel)",
   "language": "python",
   "name": "python3"
  },
  "language_info": {
   "codemirror_mode": {
    "name": "ipython",
    "version": 3
   },
   "file_extension": ".py",
   "mimetype": "text/x-python",
   "name": "python",
   "nbconvert_exporter": "python",
   "pygments_lexer": "ipython3",
   "version": "3.8.13"
  }
 },
 "nbformat": 4,
 "nbformat_minor": 1
}