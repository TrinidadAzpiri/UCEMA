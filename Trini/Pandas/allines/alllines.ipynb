{
 "cells": [
  {
   "cell_type": "code",
   "execution_count": 2,
   "metadata": {
    "collapsed": true
   },
   "outputs": [],
   "source": [
    "import pandas as pd"
   ]
  },
  {
   "cell_type": "code",
   "execution_count": 3,
   "outputs": [],
   "source": [
    "path_file = \"allLines.txt\""
   ],
   "metadata": {
    "collapsed": false,
    "pycharm": {
     "name": "#%%\n"
    }
   }
  },
  {
   "cell_type": "code",
   "execution_count": 4,
   "outputs": [],
   "source": [
    "df = pd.read_csv(path_file,delimiter=\" \")"
   ],
   "metadata": {
    "collapsed": false,
    "pycharm": {
     "name": "#%%\n"
    }
   }
  },
  {
   "cell_type": "code",
   "execution_count": 5,
   "outputs": [
    {
     "data": {
      "text/plain": "                                                    ACT I\n0                            SCENE I. London. The palace.\n1       Enter KING HENRY, LORD JOHN OF LANCASTER, the ...\n2                  So shaken as we are, so wan with care,\n3              Find we a time for frighted peace to pant,\n4          And breathe short-winded accents of new broils\n...                                                   ...\n111390         Lead us from hence, where we may leisurely\n111391              Each one demand an answer to his part\n111392     Perform'd in this wide gap of time since first\n111393             We were dissever'd: hastily lead away.\n111394                                             Exeunt\n\n[111395 rows x 1 columns]",
      "text/html": "<div>\n<style scoped>\n    .dataframe tbody tr th:only-of-type {\n        vertical-align: middle;\n    }\n\n    .dataframe tbody tr th {\n        vertical-align: top;\n    }\n\n    .dataframe thead th {\n        text-align: right;\n    }\n</style>\n<table border=\"1\" class=\"dataframe\">\n  <thead>\n    <tr style=\"text-align: right;\">\n      <th></th>\n      <th>ACT I</th>\n    </tr>\n  </thead>\n  <tbody>\n    <tr>\n      <th>0</th>\n      <td>SCENE I. London. The palace.</td>\n    </tr>\n    <tr>\n      <th>1</th>\n      <td>Enter KING HENRY, LORD JOHN OF LANCASTER, the ...</td>\n    </tr>\n    <tr>\n      <th>2</th>\n      <td>So shaken as we are, so wan with care,</td>\n    </tr>\n    <tr>\n      <th>3</th>\n      <td>Find we a time for frighted peace to pant,</td>\n    </tr>\n    <tr>\n      <th>4</th>\n      <td>And breathe short-winded accents of new broils</td>\n    </tr>\n    <tr>\n      <th>...</th>\n      <td>...</td>\n    </tr>\n    <tr>\n      <th>111390</th>\n      <td>Lead us from hence, where we may leisurely</td>\n    </tr>\n    <tr>\n      <th>111391</th>\n      <td>Each one demand an answer to his part</td>\n    </tr>\n    <tr>\n      <th>111392</th>\n      <td>Perform'd in this wide gap of time since first</td>\n    </tr>\n    <tr>\n      <th>111393</th>\n      <td>We were dissever'd: hastily lead away.</td>\n    </tr>\n    <tr>\n      <th>111394</th>\n      <td>Exeunt</td>\n    </tr>\n  </tbody>\n</table>\n<p>111395 rows × 1 columns</p>\n</div>"
     },
     "execution_count": 5,
     "metadata": {},
     "output_type": "execute_result"
    }
   ],
   "source": [
    "df"
   ],
   "metadata": {
    "collapsed": false,
    "pycharm": {
     "name": "#%%\n"
    }
   }
  },
  {
   "cell_type": "code",
   "execution_count": 6,
   "outputs": [
    {
     "data": {
      "text/plain": "111395"
     },
     "execution_count": 6,
     "metadata": {},
     "output_type": "execute_result"
    }
   ],
   "source": [
    "len(df)"
   ],
   "metadata": {
    "collapsed": false,
    "pycharm": {
     "name": "#%%\n"
    }
   }
  },
  {
   "cell_type": "code",
   "execution_count": 8,
   "outputs": [
    {
     "data": {
      "text/plain": "Index(['ACT I'], dtype='object')"
     },
     "execution_count": 8,
     "metadata": {},
     "output_type": "execute_result"
    }
   ],
   "source": [
    "df.columns"
   ],
   "metadata": {
    "collapsed": false,
    "pycharm": {
     "name": "#%%\n"
    }
   }
  },
  {
   "cell_type": "code",
   "execution_count": 9,
   "outputs": [
    {
     "data": {
      "text/plain": "1"
     },
     "execution_count": 9,
     "metadata": {},
     "output_type": "execute_result"
    }
   ],
   "source": [
    "len(df.columns)"
   ],
   "metadata": {
    "collapsed": false,
    "pycharm": {
     "name": "#%%\n"
    }
   }
  },
  {
   "cell_type": "code",
   "execution_count": 10,
   "outputs": [
    {
     "name": "stdout",
     "output_type": "stream",
     "text": [
      "<class 'pandas.core.frame.DataFrame'>\n",
      "RangeIndex: 111395 entries, 0 to 111394\n",
      "Data columns (total 1 columns):\n",
      " #   Column  Non-Null Count   Dtype \n",
      "---  ------  --------------   ----- \n",
      " 0   ACT I   111395 non-null  object\n",
      "dtypes: object(1)\n",
      "memory usage: 870.4+ KB\n"
     ]
    }
   ],
   "source": [
    "df.info()"
   ],
   "metadata": {
    "collapsed": false,
    "pycharm": {
     "name": "#%%\n"
    }
   }
  },
  {
   "cell_type": "code",
   "execution_count": 11,
   "outputs": [
    {
     "data": {
      "text/plain": "                                               ACT I\n0                       SCENE I. London. The palace.\n1  Enter KING HENRY, LORD JOHN OF LANCASTER, the ...\n2             So shaken as we are, so wan with care,\n3         Find we a time for frighted peace to pant,\n4     And breathe short-winded accents of new broils",
      "text/html": "<div>\n<style scoped>\n    .dataframe tbody tr th:only-of-type {\n        vertical-align: middle;\n    }\n\n    .dataframe tbody tr th {\n        vertical-align: top;\n    }\n\n    .dataframe thead th {\n        text-align: right;\n    }\n</style>\n<table border=\"1\" class=\"dataframe\">\n  <thead>\n    <tr style=\"text-align: right;\">\n      <th></th>\n      <th>ACT I</th>\n    </tr>\n  </thead>\n  <tbody>\n    <tr>\n      <th>0</th>\n      <td>SCENE I. London. The palace.</td>\n    </tr>\n    <tr>\n      <th>1</th>\n      <td>Enter KING HENRY, LORD JOHN OF LANCASTER, the ...</td>\n    </tr>\n    <tr>\n      <th>2</th>\n      <td>So shaken as we are, so wan with care,</td>\n    </tr>\n    <tr>\n      <th>3</th>\n      <td>Find we a time for frighted peace to pant,</td>\n    </tr>\n    <tr>\n      <th>4</th>\n      <td>And breathe short-winded accents of new broils</td>\n    </tr>\n  </tbody>\n</table>\n</div>"
     },
     "execution_count": 11,
     "metadata": {},
     "output_type": "execute_result"
    }
   ],
   "source": [
    "df.head()"
   ],
   "metadata": {
    "collapsed": false,
    "pycharm": {
     "name": "#%%\n"
    }
   }
  }
 ],
 "metadata": {
  "kernelspec": {
   "display_name": "Python 3",
   "language": "python",
   "name": "python3"
  },
  "language_info": {
   "codemirror_mode": {
    "name": "ipython",
    "version": 2
   },
   "file_extension": ".py",
   "mimetype": "text/x-python",
   "name": "python",
   "nbconvert_exporter": "python",
   "pygments_lexer": "ipython2",
   "version": "2.7.6"
  }
 },
 "nbformat": 4,
 "nbformat_minor": 0
}