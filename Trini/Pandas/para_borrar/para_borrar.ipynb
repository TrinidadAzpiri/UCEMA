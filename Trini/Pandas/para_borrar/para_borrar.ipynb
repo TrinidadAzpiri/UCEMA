{
 "cells": [
  {
   "cell_type": "code",
   "execution_count": 3,
   "metadata": {
    "collapsed": true
   },
   "outputs": [],
   "source": [
    "import pandas as pd"
   ]
  },
  {
   "cell_type": "code",
   "execution_count": 4,
   "outputs": [],
   "source": [
    "path_file = \"para_borrar.tsv\""
   ],
   "metadata": {
    "collapsed": false,
    "pycharm": {
     "name": "#%%\n"
    }
   }
  },
  {
   "cell_type": "code",
   "execution_count": 5,
   "outputs": [],
   "source": [
    "df = pd.read_csv(path_file,delimiter=\"\\t\")"
   ],
   "metadata": {
    "collapsed": false,
    "pycharm": {
     "name": "#%%\n"
    }
   }
  },
  {
   "cell_type": "code",
   "execution_count": 6,
   "outputs": [
    {
     "data": {
      "text/plain": "      Fecha de respuesta     id Edad  Customer Value  \\\n0          6/30/19 23:09      1   43             1.0   \n1          6/30/19 22:56      2   75             1.0   \n2          6/30/19 22:52      3   23             1.0   \n3          6/30/19 22:33      4   71             2.0   \n4          6/30/19 22:25      5   64             2.0   \n...                  ...    ...  ...             ...   \n35821        1/1/19 8:48  32233   63             2.0   \n35822        1/1/19 3:40  32234   35             2.0   \n35823        1/1/19 2:04  32235   41             2.0   \n35824        1/1/19 1:07  32236   66             1.0   \n35825        1/1/19 0:47  32237   54             1.0   \n\n       Probabilidad de Recomendación  \\\n0                               10.0   \n1                               10.0   \n2                               10.0   \n3                               10.0   \n4                                9.0   \n...                              ...   \n35821                           10.0   \n35822                            4.0   \n35823                           10.0   \n35824                           10.0   \n35825                            7.0   \n\n                                               ¿Por que?  \\\n0                         buen servicio y buena atención   \n1                        Eficiencia, amabilidad, rapidez   \n2                                         Todo excelente   \n3      Vienen enseguida y siempre me solucionan el pr...   \n4      Cumplió de acuerdo a mis expectativas, horario...   \n...                                                  ...   \n35821                                      buen servicio   \n35822  La falta de compromiso de parte del seguro por...   \n35823      Buena atención y rápida solución de problemas   \n35824     Persona muy eficiente,responsable y educado. ,   \n35825                            Es correcto el servicio   \n\n      Date of 1st Feedback Call Resultado del Primer contacto  \\\n0                           NaN                           NaN   \n1                           NaN                           NaN   \n2                           NaN                           NaN   \n3                           NaN                           NaN   \n4                           NaN                           NaN   \n...                         ...                           ...   \n35821                       NaN                           NaN   \n35822                02/01/2018                 No contactado   \n35823                       NaN                           NaN   \n35824                       NaN                           NaN   \n35825                       NaN                           NaN   \n\n                      Descripción detallada del contacto  \\\n0                                                    NaN   \n1                                                    NaN   \n2                                                    NaN   \n3                                                    NaN   \n4                                                    NaN   \n...                                                  ...   \n35821                                                NaN   \n35822  no es posible establecer contacto con la titul...   \n35823                                                NaN   \n35824                                                NaN   \n35825                                                NaN   \n\n      Fuiste capaz de resolver el inconveniente?  \\\n0                                            NaN   \n1                                            NaN   \n2                                            NaN   \n3                                            NaN   \n4                                            NaN   \n...                                          ...   \n35821                                        NaN   \n35822                                         No   \n35823                                        NaN   \n35824                                        NaN   \n35825                                        NaN   \n\n      El cliente se encontró satisfecho con el resultado?  \n0                                                    NaN   \n1                                                    NaN   \n2                                                    NaN   \n3                                                    NaN   \n4                                                    NaN   \n...                                                  ...   \n35821                                                NaN   \n35822                                                 No   \n35823                                                NaN   \n35824                                                NaN   \n35825                                                NaN   \n\n[35826 rows x 11 columns]",
      "text/html": "<div>\n<style scoped>\n    .dataframe tbody tr th:only-of-type {\n        vertical-align: middle;\n    }\n\n    .dataframe tbody tr th {\n        vertical-align: top;\n    }\n\n    .dataframe thead th {\n        text-align: right;\n    }\n</style>\n<table border=\"1\" class=\"dataframe\">\n  <thead>\n    <tr style=\"text-align: right;\">\n      <th></th>\n      <th>Fecha de respuesta</th>\n      <th>id</th>\n      <th>Edad</th>\n      <th>Customer Value</th>\n      <th>Probabilidad de Recomendación</th>\n      <th>¿Por que?</th>\n      <th>Date of 1st Feedback Call</th>\n      <th>Resultado del Primer contacto</th>\n      <th>Descripción detallada del contacto</th>\n      <th>Fuiste capaz de resolver el inconveniente?</th>\n      <th>El cliente se encontró satisfecho con el resultado?</th>\n    </tr>\n  </thead>\n  <tbody>\n    <tr>\n      <th>0</th>\n      <td>6/30/19 23:09</td>\n      <td>1</td>\n      <td>43</td>\n      <td>1.0</td>\n      <td>10.0</td>\n      <td>buen servicio y buena atención</td>\n      <td>NaN</td>\n      <td>NaN</td>\n      <td>NaN</td>\n      <td>NaN</td>\n      <td>NaN</td>\n    </tr>\n    <tr>\n      <th>1</th>\n      <td>6/30/19 22:56</td>\n      <td>2</td>\n      <td>75</td>\n      <td>1.0</td>\n      <td>10.0</td>\n      <td>Eficiencia, amabilidad, rapidez</td>\n      <td>NaN</td>\n      <td>NaN</td>\n      <td>NaN</td>\n      <td>NaN</td>\n      <td>NaN</td>\n    </tr>\n    <tr>\n      <th>2</th>\n      <td>6/30/19 22:52</td>\n      <td>3</td>\n      <td>23</td>\n      <td>1.0</td>\n      <td>10.0</td>\n      <td>Todo excelente</td>\n      <td>NaN</td>\n      <td>NaN</td>\n      <td>NaN</td>\n      <td>NaN</td>\n      <td>NaN</td>\n    </tr>\n    <tr>\n      <th>3</th>\n      <td>6/30/19 22:33</td>\n      <td>4</td>\n      <td>71</td>\n      <td>2.0</td>\n      <td>10.0</td>\n      <td>Vienen enseguida y siempre me solucionan el pr...</td>\n      <td>NaN</td>\n      <td>NaN</td>\n      <td>NaN</td>\n      <td>NaN</td>\n      <td>NaN</td>\n    </tr>\n    <tr>\n      <th>4</th>\n      <td>6/30/19 22:25</td>\n      <td>5</td>\n      <td>64</td>\n      <td>2.0</td>\n      <td>9.0</td>\n      <td>Cumplió de acuerdo a mis expectativas, horario...</td>\n      <td>NaN</td>\n      <td>NaN</td>\n      <td>NaN</td>\n      <td>NaN</td>\n      <td>NaN</td>\n    </tr>\n    <tr>\n      <th>...</th>\n      <td>...</td>\n      <td>...</td>\n      <td>...</td>\n      <td>...</td>\n      <td>...</td>\n      <td>...</td>\n      <td>...</td>\n      <td>...</td>\n      <td>...</td>\n      <td>...</td>\n      <td>...</td>\n    </tr>\n    <tr>\n      <th>35821</th>\n      <td>1/1/19 8:48</td>\n      <td>32233</td>\n      <td>63</td>\n      <td>2.0</td>\n      <td>10.0</td>\n      <td>buen servicio</td>\n      <td>NaN</td>\n      <td>NaN</td>\n      <td>NaN</td>\n      <td>NaN</td>\n      <td>NaN</td>\n    </tr>\n    <tr>\n      <th>35822</th>\n      <td>1/1/19 3:40</td>\n      <td>32234</td>\n      <td>35</td>\n      <td>2.0</td>\n      <td>4.0</td>\n      <td>La falta de compromiso de parte del seguro por...</td>\n      <td>02/01/2018</td>\n      <td>No contactado</td>\n      <td>no es posible establecer contacto con la titul...</td>\n      <td>No</td>\n      <td>No</td>\n    </tr>\n    <tr>\n      <th>35823</th>\n      <td>1/1/19 2:04</td>\n      <td>32235</td>\n      <td>41</td>\n      <td>2.0</td>\n      <td>10.0</td>\n      <td>Buena atención y rápida solución de problemas</td>\n      <td>NaN</td>\n      <td>NaN</td>\n      <td>NaN</td>\n      <td>NaN</td>\n      <td>NaN</td>\n    </tr>\n    <tr>\n      <th>35824</th>\n      <td>1/1/19 1:07</td>\n      <td>32236</td>\n      <td>66</td>\n      <td>1.0</td>\n      <td>10.0</td>\n      <td>Persona muy eficiente,responsable y educado. ,</td>\n      <td>NaN</td>\n      <td>NaN</td>\n      <td>NaN</td>\n      <td>NaN</td>\n      <td>NaN</td>\n    </tr>\n    <tr>\n      <th>35825</th>\n      <td>1/1/19 0:47</td>\n      <td>32237</td>\n      <td>54</td>\n      <td>1.0</td>\n      <td>7.0</td>\n      <td>Es correcto el servicio</td>\n      <td>NaN</td>\n      <td>NaN</td>\n      <td>NaN</td>\n      <td>NaN</td>\n      <td>NaN</td>\n    </tr>\n  </tbody>\n</table>\n<p>35826 rows × 11 columns</p>\n</div>"
     },
     "execution_count": 6,
     "metadata": {},
     "output_type": "execute_result"
    }
   ],
   "source": [
    "df"
   ],
   "metadata": {
    "collapsed": false,
    "pycharm": {
     "name": "#%%\n"
    }
   }
  },
  {
   "cell_type": "code",
   "execution_count": 7,
   "outputs": [
    {
     "data": {
      "text/plain": "35826"
     },
     "execution_count": 7,
     "metadata": {},
     "output_type": "execute_result"
    }
   ],
   "source": [
    "len(df)"
   ],
   "metadata": {
    "collapsed": false,
    "pycharm": {
     "name": "#%%\n"
    }
   }
  },
  {
   "cell_type": "code",
   "execution_count": 9,
   "outputs": [
    {
     "data": {
      "text/plain": "Index(['Fecha de respuesta', 'id', 'Edad', 'Customer Value',\n       'Probabilidad de Recomendación', '¿Por que?',\n       'Date of 1st Feedback Call', 'Resultado del Primer contacto',\n       'Descripción detallada del contacto',\n       'Fuiste capaz de resolver el inconveniente?',\n       'El cliente se encontró satisfecho con el resultado?'],\n      dtype='object')"
     },
     "execution_count": 9,
     "metadata": {},
     "output_type": "execute_result"
    }
   ],
   "source": [
    "df.columns"
   ],
   "metadata": {
    "collapsed": false,
    "pycharm": {
     "name": "#%%\n"
    }
   }
  },
  {
   "cell_type": "code",
   "execution_count": 10,
   "outputs": [
    {
     "data": {
      "text/plain": "11"
     },
     "execution_count": 10,
     "metadata": {},
     "output_type": "execute_result"
    }
   ],
   "source": [
    "len(df.columns)"
   ],
   "metadata": {
    "collapsed": false,
    "pycharm": {
     "name": "#%%\n"
    }
   }
  },
  {
   "cell_type": "code",
   "execution_count": 12,
   "outputs": [
    {
     "name": "stdout",
     "output_type": "stream",
     "text": [
      "<class 'pandas.core.frame.DataFrame'>\n",
      "RangeIndex: 35826 entries, 0 to 35825\n",
      "Data columns (total 11 columns):\n",
      " #   Column                                               Non-Null Count  Dtype  \n",
      "---  ------                                               --------------  -----  \n",
      " 0   Fecha de respuesta                                   35693 non-null  object \n",
      " 1   id                                                   35213 non-null  object \n",
      " 2   Edad                                                 35015 non-null  object \n",
      " 3   Customer Value                                       34572 non-null  float64\n",
      " 4   Probabilidad de Recomendación                        34572 non-null  float64\n",
      " 5   ¿Por que?                                            34572 non-null  object \n",
      " 6   Date of 1st Feedback Call                            4333 non-null   object \n",
      " 7   Resultado del Primer contacto                        4367 non-null   object \n",
      " 8   Descripción detallada del contacto                   3208 non-null   object \n",
      " 9   Fuiste capaz de resolver el inconveniente?           2517 non-null   object \n",
      " 10  El cliente se encontró satisfecho con el resultado?  2503 non-null   object \n",
      "dtypes: float64(2), object(9)\n",
      "memory usage: 3.0+ MB\n"
     ]
    }
   ],
   "source": [
    "df.info()"
   ],
   "metadata": {
    "collapsed": false,
    "pycharm": {
     "name": "#%%\n"
    }
   }
  },
  {
   "cell_type": "code",
   "execution_count": 13,
   "outputs": [
    {
     "data": {
      "text/plain": "  Fecha de respuesta id Edad  Customer Value  Probabilidad de Recomendación  \\\n0      6/30/19 23:09  1   43             1.0                           10.0   \n1      6/30/19 22:56  2   75             1.0                           10.0   \n2      6/30/19 22:52  3   23             1.0                           10.0   \n3      6/30/19 22:33  4   71             2.0                           10.0   \n4      6/30/19 22:25  5   64             2.0                            9.0   \n\n                                           ¿Por que?  \\\n0                     buen servicio y buena atención   \n1                    Eficiencia, amabilidad, rapidez   \n2                                     Todo excelente   \n3  Vienen enseguida y siempre me solucionan el pr...   \n4  Cumplió de acuerdo a mis expectativas, horario...   \n\n  Date of 1st Feedback Call Resultado del Primer contacto  \\\n0                       NaN                           NaN   \n1                       NaN                           NaN   \n2                       NaN                           NaN   \n3                       NaN                           NaN   \n4                       NaN                           NaN   \n\n  Descripción detallada del contacto  \\\n0                                NaN   \n1                                NaN   \n2                                NaN   \n3                                NaN   \n4                                NaN   \n\n  Fuiste capaz de resolver el inconveniente?  \\\n0                                        NaN   \n1                                        NaN   \n2                                        NaN   \n3                                        NaN   \n4                                        NaN   \n\n  El cliente se encontró satisfecho con el resultado?  \n0                                                NaN   \n1                                                NaN   \n2                                                NaN   \n3                                                NaN   \n4                                                NaN   ",
      "text/html": "<div>\n<style scoped>\n    .dataframe tbody tr th:only-of-type {\n        vertical-align: middle;\n    }\n\n    .dataframe tbody tr th {\n        vertical-align: top;\n    }\n\n    .dataframe thead th {\n        text-align: right;\n    }\n</style>\n<table border=\"1\" class=\"dataframe\">\n  <thead>\n    <tr style=\"text-align: right;\">\n      <th></th>\n      <th>Fecha de respuesta</th>\n      <th>id</th>\n      <th>Edad</th>\n      <th>Customer Value</th>\n      <th>Probabilidad de Recomendación</th>\n      <th>¿Por que?</th>\n      <th>Date of 1st Feedback Call</th>\n      <th>Resultado del Primer contacto</th>\n      <th>Descripción detallada del contacto</th>\n      <th>Fuiste capaz de resolver el inconveniente?</th>\n      <th>El cliente se encontró satisfecho con el resultado?</th>\n    </tr>\n  </thead>\n  <tbody>\n    <tr>\n      <th>0</th>\n      <td>6/30/19 23:09</td>\n      <td>1</td>\n      <td>43</td>\n      <td>1.0</td>\n      <td>10.0</td>\n      <td>buen servicio y buena atención</td>\n      <td>NaN</td>\n      <td>NaN</td>\n      <td>NaN</td>\n      <td>NaN</td>\n      <td>NaN</td>\n    </tr>\n    <tr>\n      <th>1</th>\n      <td>6/30/19 22:56</td>\n      <td>2</td>\n      <td>75</td>\n      <td>1.0</td>\n      <td>10.0</td>\n      <td>Eficiencia, amabilidad, rapidez</td>\n      <td>NaN</td>\n      <td>NaN</td>\n      <td>NaN</td>\n      <td>NaN</td>\n      <td>NaN</td>\n    </tr>\n    <tr>\n      <th>2</th>\n      <td>6/30/19 22:52</td>\n      <td>3</td>\n      <td>23</td>\n      <td>1.0</td>\n      <td>10.0</td>\n      <td>Todo excelente</td>\n      <td>NaN</td>\n      <td>NaN</td>\n      <td>NaN</td>\n      <td>NaN</td>\n      <td>NaN</td>\n    </tr>\n    <tr>\n      <th>3</th>\n      <td>6/30/19 22:33</td>\n      <td>4</td>\n      <td>71</td>\n      <td>2.0</td>\n      <td>10.0</td>\n      <td>Vienen enseguida y siempre me solucionan el pr...</td>\n      <td>NaN</td>\n      <td>NaN</td>\n      <td>NaN</td>\n      <td>NaN</td>\n      <td>NaN</td>\n    </tr>\n    <tr>\n      <th>4</th>\n      <td>6/30/19 22:25</td>\n      <td>5</td>\n      <td>64</td>\n      <td>2.0</td>\n      <td>9.0</td>\n      <td>Cumplió de acuerdo a mis expectativas, horario...</td>\n      <td>NaN</td>\n      <td>NaN</td>\n      <td>NaN</td>\n      <td>NaN</td>\n      <td>NaN</td>\n    </tr>\n  </tbody>\n</table>\n</div>"
     },
     "execution_count": 13,
     "metadata": {},
     "output_type": "execute_result"
    }
   ],
   "source": [
    "df.head()"
   ],
   "metadata": {
    "collapsed": false,
    "pycharm": {
     "name": "#%%\n"
    }
   }
  },
  {
   "cell_type": "code",
   "execution_count": 15,
   "outputs": [],
   "source": [
    "clientes = df"
   ],
   "metadata": {
    "collapsed": false,
    "pycharm": {
     "name": "#%%\n"
    }
   }
  },
  {
   "cell_type": "code",
   "execution_count": 17,
   "outputs": [
    {
     "data": {
      "text/plain": "  Fecha de respuesta id Edad  Customer Value  Probabilidad de Recomendación  \\\n0      6/30/19 23:09  1   43             1.0                           10.0   \n1      6/30/19 22:56  2   75             1.0                           10.0   \n2      6/30/19 22:52  3   23             1.0                           10.0   \n3      6/30/19 22:33  4   71             2.0                           10.0   \n4      6/30/19 22:25  5   64             2.0                            9.0   \n\n                                           ¿Por que?  \\\n0                     buen servicio y buena atención   \n1                    Eficiencia, amabilidad, rapidez   \n2                                     Todo excelente   \n3  Vienen enseguida y siempre me solucionan el pr...   \n4  Cumplió de acuerdo a mis expectativas, horario...   \n\n  Date of 1st Feedback Call Resultado del Primer contacto  \\\n0                       NaN                           NaN   \n1                       NaN                           NaN   \n2                       NaN                           NaN   \n3                       NaN                           NaN   \n4                       NaN                           NaN   \n\n  Descripción detallada del contacto  \\\n0                                NaN   \n1                                NaN   \n2                                NaN   \n3                                NaN   \n4                                NaN   \n\n  Fuiste capaz de resolver el inconveniente?  \\\n0                                        NaN   \n1                                        NaN   \n2                                        NaN   \n3                                        NaN   \n4                                        NaN   \n\n  El cliente se encontró satisfecho con el resultado?  \n0                                                NaN   \n1                                                NaN   \n2                                                NaN   \n3                                                NaN   \n4                                                NaN   ",
      "text/html": "<div>\n<style scoped>\n    .dataframe tbody tr th:only-of-type {\n        vertical-align: middle;\n    }\n\n    .dataframe tbody tr th {\n        vertical-align: top;\n    }\n\n    .dataframe thead th {\n        text-align: right;\n    }\n</style>\n<table border=\"1\" class=\"dataframe\">\n  <thead>\n    <tr style=\"text-align: right;\">\n      <th></th>\n      <th>Fecha de respuesta</th>\n      <th>id</th>\n      <th>Edad</th>\n      <th>Customer Value</th>\n      <th>Probabilidad de Recomendación</th>\n      <th>¿Por que?</th>\n      <th>Date of 1st Feedback Call</th>\n      <th>Resultado del Primer contacto</th>\n      <th>Descripción detallada del contacto</th>\n      <th>Fuiste capaz de resolver el inconveniente?</th>\n      <th>El cliente se encontró satisfecho con el resultado?</th>\n    </tr>\n  </thead>\n  <tbody>\n    <tr>\n      <th>0</th>\n      <td>6/30/19 23:09</td>\n      <td>1</td>\n      <td>43</td>\n      <td>1.0</td>\n      <td>10.0</td>\n      <td>buen servicio y buena atención</td>\n      <td>NaN</td>\n      <td>NaN</td>\n      <td>NaN</td>\n      <td>NaN</td>\n      <td>NaN</td>\n    </tr>\n    <tr>\n      <th>1</th>\n      <td>6/30/19 22:56</td>\n      <td>2</td>\n      <td>75</td>\n      <td>1.0</td>\n      <td>10.0</td>\n      <td>Eficiencia, amabilidad, rapidez</td>\n      <td>NaN</td>\n      <td>NaN</td>\n      <td>NaN</td>\n      <td>NaN</td>\n      <td>NaN</td>\n    </tr>\n    <tr>\n      <th>2</th>\n      <td>6/30/19 22:52</td>\n      <td>3</td>\n      <td>23</td>\n      <td>1.0</td>\n      <td>10.0</td>\n      <td>Todo excelente</td>\n      <td>NaN</td>\n      <td>NaN</td>\n      <td>NaN</td>\n      <td>NaN</td>\n      <td>NaN</td>\n    </tr>\n    <tr>\n      <th>3</th>\n      <td>6/30/19 22:33</td>\n      <td>4</td>\n      <td>71</td>\n      <td>2.0</td>\n      <td>10.0</td>\n      <td>Vienen enseguida y siempre me solucionan el pr...</td>\n      <td>NaN</td>\n      <td>NaN</td>\n      <td>NaN</td>\n      <td>NaN</td>\n      <td>NaN</td>\n    </tr>\n    <tr>\n      <th>4</th>\n      <td>6/30/19 22:25</td>\n      <td>5</td>\n      <td>64</td>\n      <td>2.0</td>\n      <td>9.0</td>\n      <td>Cumplió de acuerdo a mis expectativas, horario...</td>\n      <td>NaN</td>\n      <td>NaN</td>\n      <td>NaN</td>\n      <td>NaN</td>\n      <td>NaN</td>\n    </tr>\n  </tbody>\n</table>\n</div>"
     },
     "execution_count": 17,
     "metadata": {},
     "output_type": "execute_result"
    }
   ],
   "source": [
    "clientes.head()"
   ],
   "metadata": {
    "collapsed": false,
    "pycharm": {
     "name": "#%%\n"
    }
   }
  },
  {
   "cell_type": "code",
   "execution_count": 21,
   "outputs": [
    {
     "ename": "TypeError",
     "evalue": "can only concatenate str (not \"int\") to str",
     "output_type": "error",
     "traceback": [
      "\u001B[1;31m---------------------------------------------------------------------------\u001B[0m",
      "\u001B[1;31mTypeError\u001B[0m                                 Traceback (most recent call last)",
      "\u001B[1;32m~\\AppData\\Local\\Temp/ipykernel_7544/3864381328.py\u001B[0m in \u001B[0;36m<module>\u001B[1;34m\u001B[0m\n\u001B[1;32m----> 1\u001B[1;33m \u001B[0mpromedio_edad\u001B[0m \u001B[1;33m=\u001B[0m \u001B[0mclientes\u001B[0m\u001B[1;33m[\u001B[0m\u001B[1;34m\"Edad\"\u001B[0m\u001B[1;33m]\u001B[0m\u001B[1;33m.\u001B[0m\u001B[0mmean\u001B[0m\u001B[1;33m(\u001B[0m\u001B[1;33m)\u001B[0m\u001B[1;33m\u001B[0m\u001B[1;33m\u001B[0m\u001B[0m\n\u001B[0m",
      "\u001B[1;32m~\\PycharmProjects\\POO\\UCEMA\\venv\\lib\\site-packages\\pandas\\core\\generic.py\u001B[0m in \u001B[0;36mmean\u001B[1;34m(self, axis, skipna, level, numeric_only, **kwargs)\u001B[0m\n\u001B[0;32m  10749\u001B[0m         )\n\u001B[0;32m  10750\u001B[0m         \u001B[1;32mdef\u001B[0m \u001B[0mmean\u001B[0m\u001B[1;33m(\u001B[0m\u001B[0mself\u001B[0m\u001B[1;33m,\u001B[0m \u001B[0maxis\u001B[0m\u001B[1;33m=\u001B[0m\u001B[1;32mNone\u001B[0m\u001B[1;33m,\u001B[0m \u001B[0mskipna\u001B[0m\u001B[1;33m=\u001B[0m\u001B[1;32mNone\u001B[0m\u001B[1;33m,\u001B[0m \u001B[0mlevel\u001B[0m\u001B[1;33m=\u001B[0m\u001B[1;32mNone\u001B[0m\u001B[1;33m,\u001B[0m \u001B[0mnumeric_only\u001B[0m\u001B[1;33m=\u001B[0m\u001B[1;32mNone\u001B[0m\u001B[1;33m,\u001B[0m \u001B[1;33m**\u001B[0m\u001B[0mkwargs\u001B[0m\u001B[1;33m)\u001B[0m\u001B[1;33m:\u001B[0m\u001B[1;33m\u001B[0m\u001B[1;33m\u001B[0m\u001B[0m\n\u001B[1;32m> 10751\u001B[1;33m             \u001B[1;32mreturn\u001B[0m \u001B[0mNDFrame\u001B[0m\u001B[1;33m.\u001B[0m\u001B[0mmean\u001B[0m\u001B[1;33m(\u001B[0m\u001B[0mself\u001B[0m\u001B[1;33m,\u001B[0m \u001B[0maxis\u001B[0m\u001B[1;33m,\u001B[0m \u001B[0mskipna\u001B[0m\u001B[1;33m,\u001B[0m \u001B[0mlevel\u001B[0m\u001B[1;33m,\u001B[0m \u001B[0mnumeric_only\u001B[0m\u001B[1;33m,\u001B[0m \u001B[1;33m**\u001B[0m\u001B[0mkwargs\u001B[0m\u001B[1;33m)\u001B[0m\u001B[1;33m\u001B[0m\u001B[1;33m\u001B[0m\u001B[0m\n\u001B[0m\u001B[0;32m  10752\u001B[0m \u001B[1;33m\u001B[0m\u001B[0m\n\u001B[0;32m  10753\u001B[0m         \u001B[0msetattr\u001B[0m\u001B[1;33m(\u001B[0m\u001B[0mcls\u001B[0m\u001B[1;33m,\u001B[0m \u001B[1;34m\"mean\"\u001B[0m\u001B[1;33m,\u001B[0m \u001B[0mmean\u001B[0m\u001B[1;33m)\u001B[0m\u001B[1;33m\u001B[0m\u001B[1;33m\u001B[0m\u001B[0m\n",
      "\u001B[1;32m~\\PycharmProjects\\POO\\UCEMA\\venv\\lib\\site-packages\\pandas\\core\\generic.py\u001B[0m in \u001B[0;36mmean\u001B[1;34m(self, axis, skipna, level, numeric_only, **kwargs)\u001B[0m\n\u001B[0;32m  10367\u001B[0m \u001B[1;33m\u001B[0m\u001B[0m\n\u001B[0;32m  10368\u001B[0m     \u001B[1;32mdef\u001B[0m \u001B[0mmean\u001B[0m\u001B[1;33m(\u001B[0m\u001B[0mself\u001B[0m\u001B[1;33m,\u001B[0m \u001B[0maxis\u001B[0m\u001B[1;33m=\u001B[0m\u001B[1;32mNone\u001B[0m\u001B[1;33m,\u001B[0m \u001B[0mskipna\u001B[0m\u001B[1;33m=\u001B[0m\u001B[1;32mNone\u001B[0m\u001B[1;33m,\u001B[0m \u001B[0mlevel\u001B[0m\u001B[1;33m=\u001B[0m\u001B[1;32mNone\u001B[0m\u001B[1;33m,\u001B[0m \u001B[0mnumeric_only\u001B[0m\u001B[1;33m=\u001B[0m\u001B[1;32mNone\u001B[0m\u001B[1;33m,\u001B[0m \u001B[1;33m**\u001B[0m\u001B[0mkwargs\u001B[0m\u001B[1;33m)\u001B[0m\u001B[1;33m:\u001B[0m\u001B[1;33m\u001B[0m\u001B[1;33m\u001B[0m\u001B[0m\n\u001B[1;32m> 10369\u001B[1;33m         return self._stat_function(\n\u001B[0m\u001B[0;32m  10370\u001B[0m             \u001B[1;34m\"mean\"\u001B[0m\u001B[1;33m,\u001B[0m \u001B[0mnanops\u001B[0m\u001B[1;33m.\u001B[0m\u001B[0mnanmean\u001B[0m\u001B[1;33m,\u001B[0m \u001B[0maxis\u001B[0m\u001B[1;33m,\u001B[0m \u001B[0mskipna\u001B[0m\u001B[1;33m,\u001B[0m \u001B[0mlevel\u001B[0m\u001B[1;33m,\u001B[0m \u001B[0mnumeric_only\u001B[0m\u001B[1;33m,\u001B[0m \u001B[1;33m**\u001B[0m\u001B[0mkwargs\u001B[0m\u001B[1;33m\u001B[0m\u001B[1;33m\u001B[0m\u001B[0m\n\u001B[0;32m  10371\u001B[0m         )\n",
      "\u001B[1;32m~\\PycharmProjects\\POO\\UCEMA\\venv\\lib\\site-packages\\pandas\\core\\generic.py\u001B[0m in \u001B[0;36m_stat_function\u001B[1;34m(self, name, func, axis, skipna, level, numeric_only, **kwargs)\u001B[0m\n\u001B[0;32m  10352\u001B[0m                 \u001B[0mname\u001B[0m\u001B[1;33m,\u001B[0m \u001B[0maxis\u001B[0m\u001B[1;33m=\u001B[0m\u001B[0maxis\u001B[0m\u001B[1;33m,\u001B[0m \u001B[0mlevel\u001B[0m\u001B[1;33m=\u001B[0m\u001B[0mlevel\u001B[0m\u001B[1;33m,\u001B[0m \u001B[0mskipna\u001B[0m\u001B[1;33m=\u001B[0m\u001B[0mskipna\u001B[0m\u001B[1;33m,\u001B[0m \u001B[0mnumeric_only\u001B[0m\u001B[1;33m=\u001B[0m\u001B[0mnumeric_only\u001B[0m\u001B[1;33m\u001B[0m\u001B[1;33m\u001B[0m\u001B[0m\n\u001B[0;32m  10353\u001B[0m             )\n\u001B[1;32m> 10354\u001B[1;33m         return self._reduce(\n\u001B[0m\u001B[0;32m  10355\u001B[0m             \u001B[0mfunc\u001B[0m\u001B[1;33m,\u001B[0m \u001B[0mname\u001B[0m\u001B[1;33m=\u001B[0m\u001B[0mname\u001B[0m\u001B[1;33m,\u001B[0m \u001B[0maxis\u001B[0m\u001B[1;33m=\u001B[0m\u001B[0maxis\u001B[0m\u001B[1;33m,\u001B[0m \u001B[0mskipna\u001B[0m\u001B[1;33m=\u001B[0m\u001B[0mskipna\u001B[0m\u001B[1;33m,\u001B[0m \u001B[0mnumeric_only\u001B[0m\u001B[1;33m=\u001B[0m\u001B[0mnumeric_only\u001B[0m\u001B[1;33m\u001B[0m\u001B[1;33m\u001B[0m\u001B[0m\n\u001B[0;32m  10356\u001B[0m         )\n",
      "\u001B[1;32m~\\PycharmProjects\\POO\\UCEMA\\venv\\lib\\site-packages\\pandas\\core\\series.py\u001B[0m in \u001B[0;36m_reduce\u001B[1;34m(self, op, name, axis, skipna, numeric_only, filter_type, **kwds)\u001B[0m\n\u001B[0;32m   4390\u001B[0m                 )\n\u001B[0;32m   4391\u001B[0m             \u001B[1;32mwith\u001B[0m \u001B[0mnp\u001B[0m\u001B[1;33m.\u001B[0m\u001B[0merrstate\u001B[0m\u001B[1;33m(\u001B[0m\u001B[0mall\u001B[0m\u001B[1;33m=\u001B[0m\u001B[1;34m\"ignore\"\u001B[0m\u001B[1;33m)\u001B[0m\u001B[1;33m:\u001B[0m\u001B[1;33m\u001B[0m\u001B[1;33m\u001B[0m\u001B[0m\n\u001B[1;32m-> 4392\u001B[1;33m                 \u001B[1;32mreturn\u001B[0m \u001B[0mop\u001B[0m\u001B[1;33m(\u001B[0m\u001B[0mdelegate\u001B[0m\u001B[1;33m,\u001B[0m \u001B[0mskipna\u001B[0m\u001B[1;33m=\u001B[0m\u001B[0mskipna\u001B[0m\u001B[1;33m,\u001B[0m \u001B[1;33m**\u001B[0m\u001B[0mkwds\u001B[0m\u001B[1;33m)\u001B[0m\u001B[1;33m\u001B[0m\u001B[1;33m\u001B[0m\u001B[0m\n\u001B[0m\u001B[0;32m   4393\u001B[0m \u001B[1;33m\u001B[0m\u001B[0m\n\u001B[0;32m   4394\u001B[0m     def _reindex_indexer(\n",
      "\u001B[1;32m~\\PycharmProjects\\POO\\UCEMA\\venv\\lib\\site-packages\\pandas\\core\\nanops.py\u001B[0m in \u001B[0;36m_f\u001B[1;34m(*args, **kwargs)\u001B[0m\n\u001B[0;32m     92\u001B[0m             \u001B[1;32mtry\u001B[0m\u001B[1;33m:\u001B[0m\u001B[1;33m\u001B[0m\u001B[1;33m\u001B[0m\u001B[0m\n\u001B[0;32m     93\u001B[0m                 \u001B[1;32mwith\u001B[0m \u001B[0mnp\u001B[0m\u001B[1;33m.\u001B[0m\u001B[0merrstate\u001B[0m\u001B[1;33m(\u001B[0m\u001B[0minvalid\u001B[0m\u001B[1;33m=\u001B[0m\u001B[1;34m\"ignore\"\u001B[0m\u001B[1;33m)\u001B[0m\u001B[1;33m:\u001B[0m\u001B[1;33m\u001B[0m\u001B[1;33m\u001B[0m\u001B[0m\n\u001B[1;32m---> 94\u001B[1;33m                     \u001B[1;32mreturn\u001B[0m \u001B[0mf\u001B[0m\u001B[1;33m(\u001B[0m\u001B[1;33m*\u001B[0m\u001B[0margs\u001B[0m\u001B[1;33m,\u001B[0m \u001B[1;33m**\u001B[0m\u001B[0mkwargs\u001B[0m\u001B[1;33m)\u001B[0m\u001B[1;33m\u001B[0m\u001B[1;33m\u001B[0m\u001B[0m\n\u001B[0m\u001B[0;32m     95\u001B[0m             \u001B[1;32mexcept\u001B[0m \u001B[0mValueError\u001B[0m \u001B[1;32mas\u001B[0m \u001B[0me\u001B[0m\u001B[1;33m:\u001B[0m\u001B[1;33m\u001B[0m\u001B[1;33m\u001B[0m\u001B[0m\n\u001B[0;32m     96\u001B[0m                 \u001B[1;31m# we want to transform an object array\u001B[0m\u001B[1;33m\u001B[0m\u001B[1;33m\u001B[0m\u001B[0m\n",
      "\u001B[1;32m~\\PycharmProjects\\POO\\UCEMA\\venv\\lib\\site-packages\\pandas\\core\\nanops.py\u001B[0m in \u001B[0;36mf\u001B[1;34m(values, axis, skipna, **kwds)\u001B[0m\n\u001B[0;32m    154\u001B[0m                     \u001B[0mresult\u001B[0m \u001B[1;33m=\u001B[0m \u001B[0malt\u001B[0m\u001B[1;33m(\u001B[0m\u001B[0mvalues\u001B[0m\u001B[1;33m,\u001B[0m \u001B[0maxis\u001B[0m\u001B[1;33m=\u001B[0m\u001B[0maxis\u001B[0m\u001B[1;33m,\u001B[0m \u001B[0mskipna\u001B[0m\u001B[1;33m=\u001B[0m\u001B[0mskipna\u001B[0m\u001B[1;33m,\u001B[0m \u001B[1;33m**\u001B[0m\u001B[0mkwds\u001B[0m\u001B[1;33m)\u001B[0m\u001B[1;33m\u001B[0m\u001B[1;33m\u001B[0m\u001B[0m\n\u001B[0;32m    155\u001B[0m             \u001B[1;32melse\u001B[0m\u001B[1;33m:\u001B[0m\u001B[1;33m\u001B[0m\u001B[1;33m\u001B[0m\u001B[0m\n\u001B[1;32m--> 156\u001B[1;33m                 \u001B[0mresult\u001B[0m \u001B[1;33m=\u001B[0m \u001B[0malt\u001B[0m\u001B[1;33m(\u001B[0m\u001B[0mvalues\u001B[0m\u001B[1;33m,\u001B[0m \u001B[0maxis\u001B[0m\u001B[1;33m=\u001B[0m\u001B[0maxis\u001B[0m\u001B[1;33m,\u001B[0m \u001B[0mskipna\u001B[0m\u001B[1;33m=\u001B[0m\u001B[0mskipna\u001B[0m\u001B[1;33m,\u001B[0m \u001B[1;33m**\u001B[0m\u001B[0mkwds\u001B[0m\u001B[1;33m)\u001B[0m\u001B[1;33m\u001B[0m\u001B[1;33m\u001B[0m\u001B[0m\n\u001B[0m\u001B[0;32m    157\u001B[0m \u001B[1;33m\u001B[0m\u001B[0m\n\u001B[0;32m    158\u001B[0m             \u001B[1;32mreturn\u001B[0m \u001B[0mresult\u001B[0m\u001B[1;33m\u001B[0m\u001B[1;33m\u001B[0m\u001B[0m\n",
      "\u001B[1;32m~\\PycharmProjects\\POO\\UCEMA\\venv\\lib\\site-packages\\pandas\\core\\nanops.py\u001B[0m in \u001B[0;36mnew_func\u001B[1;34m(values, axis, skipna, mask, **kwargs)\u001B[0m\n\u001B[0;32m    409\u001B[0m             \u001B[0mmask\u001B[0m \u001B[1;33m=\u001B[0m \u001B[0misna\u001B[0m\u001B[1;33m(\u001B[0m\u001B[0mvalues\u001B[0m\u001B[1;33m)\u001B[0m\u001B[1;33m\u001B[0m\u001B[1;33m\u001B[0m\u001B[0m\n\u001B[0;32m    410\u001B[0m \u001B[1;33m\u001B[0m\u001B[0m\n\u001B[1;32m--> 411\u001B[1;33m         \u001B[0mresult\u001B[0m \u001B[1;33m=\u001B[0m \u001B[0mfunc\u001B[0m\u001B[1;33m(\u001B[0m\u001B[0mvalues\u001B[0m\u001B[1;33m,\u001B[0m \u001B[0maxis\u001B[0m\u001B[1;33m=\u001B[0m\u001B[0maxis\u001B[0m\u001B[1;33m,\u001B[0m \u001B[0mskipna\u001B[0m\u001B[1;33m=\u001B[0m\u001B[0mskipna\u001B[0m\u001B[1;33m,\u001B[0m \u001B[0mmask\u001B[0m\u001B[1;33m=\u001B[0m\u001B[0mmask\u001B[0m\u001B[1;33m,\u001B[0m \u001B[1;33m**\u001B[0m\u001B[0mkwargs\u001B[0m\u001B[1;33m)\u001B[0m\u001B[1;33m\u001B[0m\u001B[1;33m\u001B[0m\u001B[0m\n\u001B[0m\u001B[0;32m    412\u001B[0m \u001B[1;33m\u001B[0m\u001B[0m\n\u001B[0;32m    413\u001B[0m         \u001B[1;32mif\u001B[0m \u001B[0mdatetimelike\u001B[0m\u001B[1;33m:\u001B[0m\u001B[1;33m\u001B[0m\u001B[1;33m\u001B[0m\u001B[0m\n",
      "\u001B[1;32m~\\PycharmProjects\\POO\\UCEMA\\venv\\lib\\site-packages\\pandas\\core\\nanops.py\u001B[0m in \u001B[0;36mnanmean\u001B[1;34m(values, axis, skipna, mask)\u001B[0m\n\u001B[0;32m    664\u001B[0m \u001B[1;33m\u001B[0m\u001B[0m\n\u001B[0;32m    665\u001B[0m     \u001B[0mcount\u001B[0m \u001B[1;33m=\u001B[0m \u001B[0m_get_counts\u001B[0m\u001B[1;33m(\u001B[0m\u001B[0mvalues\u001B[0m\u001B[1;33m.\u001B[0m\u001B[0mshape\u001B[0m\u001B[1;33m,\u001B[0m \u001B[0mmask\u001B[0m\u001B[1;33m,\u001B[0m \u001B[0maxis\u001B[0m\u001B[1;33m,\u001B[0m \u001B[0mdtype\u001B[0m\u001B[1;33m=\u001B[0m\u001B[0mdtype_count\u001B[0m\u001B[1;33m)\u001B[0m\u001B[1;33m\u001B[0m\u001B[1;33m\u001B[0m\u001B[0m\n\u001B[1;32m--> 666\u001B[1;33m     \u001B[0mthe_sum\u001B[0m \u001B[1;33m=\u001B[0m \u001B[0m_ensure_numeric\u001B[0m\u001B[1;33m(\u001B[0m\u001B[0mvalues\u001B[0m\u001B[1;33m.\u001B[0m\u001B[0msum\u001B[0m\u001B[1;33m(\u001B[0m\u001B[0maxis\u001B[0m\u001B[1;33m,\u001B[0m \u001B[0mdtype\u001B[0m\u001B[1;33m=\u001B[0m\u001B[0mdtype_sum\u001B[0m\u001B[1;33m)\u001B[0m\u001B[1;33m)\u001B[0m\u001B[1;33m\u001B[0m\u001B[1;33m\u001B[0m\u001B[0m\n\u001B[0m\u001B[0;32m    667\u001B[0m \u001B[1;33m\u001B[0m\u001B[0m\n\u001B[0;32m    668\u001B[0m     \u001B[1;32mif\u001B[0m \u001B[0maxis\u001B[0m \u001B[1;32mis\u001B[0m \u001B[1;32mnot\u001B[0m \u001B[1;32mNone\u001B[0m \u001B[1;32mand\u001B[0m \u001B[0mgetattr\u001B[0m\u001B[1;33m(\u001B[0m\u001B[0mthe_sum\u001B[0m\u001B[1;33m,\u001B[0m \u001B[1;34m\"ndim\"\u001B[0m\u001B[1;33m,\u001B[0m \u001B[1;32mFalse\u001B[0m\u001B[1;33m)\u001B[0m\u001B[1;33m:\u001B[0m\u001B[1;33m\u001B[0m\u001B[1;33m\u001B[0m\u001B[0m\n",
      "\u001B[1;32m~\\PycharmProjects\\POO\\UCEMA\\venv\\lib\\site-packages\\numpy\\core\\_methods.py\u001B[0m in \u001B[0;36m_sum\u001B[1;34m(a, axis, dtype, out, keepdims, initial, where)\u001B[0m\n\u001B[0;32m     46\u001B[0m def _sum(a, axis=None, dtype=None, out=None, keepdims=False,\n\u001B[0;32m     47\u001B[0m          initial=_NoValue, where=True):\n\u001B[1;32m---> 48\u001B[1;33m     \u001B[1;32mreturn\u001B[0m \u001B[0mumr_sum\u001B[0m\u001B[1;33m(\u001B[0m\u001B[0ma\u001B[0m\u001B[1;33m,\u001B[0m \u001B[0maxis\u001B[0m\u001B[1;33m,\u001B[0m \u001B[0mdtype\u001B[0m\u001B[1;33m,\u001B[0m \u001B[0mout\u001B[0m\u001B[1;33m,\u001B[0m \u001B[0mkeepdims\u001B[0m\u001B[1;33m,\u001B[0m \u001B[0minitial\u001B[0m\u001B[1;33m,\u001B[0m \u001B[0mwhere\u001B[0m\u001B[1;33m)\u001B[0m\u001B[1;33m\u001B[0m\u001B[1;33m\u001B[0m\u001B[0m\n\u001B[0m\u001B[0;32m     49\u001B[0m \u001B[1;33m\u001B[0m\u001B[0m\n\u001B[0;32m     50\u001B[0m def _prod(a, axis=None, dtype=None, out=None, keepdims=False,\n",
      "\u001B[1;31mTypeError\u001B[0m: can only concatenate str (not \"int\") to str"
     ]
    }
   ],
   "source": [
    "promedio_edad = clientes[\"Edad\"].mean()"
   ],
   "metadata": {
    "collapsed": false,
    "pycharm": {
     "name": "#%%\n"
    }
   }
  }
 ],
 "metadata": {
  "kernelspec": {
   "display_name": "Python 3",
   "language": "python",
   "name": "python3"
  },
  "language_info": {
   "codemirror_mode": {
    "name": "ipython",
    "version": 2
   },
   "file_extension": ".py",
   "mimetype": "text/x-python",
   "name": "python",
   "nbconvert_exporter": "python",
   "pygments_lexer": "ipython2",
   "version": "2.7.6"
  }
 },
 "nbformat": 4,
 "nbformat_minor": 0
}