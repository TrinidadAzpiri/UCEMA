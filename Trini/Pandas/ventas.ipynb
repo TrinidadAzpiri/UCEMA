{
 "cells": [
  {
   "cell_type": "code",
   "execution_count": 1,
   "metadata": {
    "collapsed": true
   },
   "outputs": [],
   "source": [
    "import pandas as pd"
   ]
  },
  {
   "cell_type": "code",
   "execution_count": 3,
   "outputs": [],
   "source": [
    "import os"
   ],
   "metadata": {
    "collapsed": false,
    "pycharm": {
     "name": "#%%\n"
    }
   }
  },
  {
   "cell_type": "code",
   "execution_count": 5,
   "outputs": [
    {
     "data": {
      "text/plain": "['A Comedy of Errors.csv',\n 'A Midsummer nights dream.csv',\n 'A Winters Tale.csv',\n 'Alls well that ends well.csv',\n 'Antony and Cleopatra.csv',\n 'As you like it.csv',\n 'Coriolanus.csv',\n 'Cymbeline.csv',\n 'Hamlet.csv',\n 'Henry IV.csv',\n 'Henry V.csv',\n 'Henry VI Part 1.csv',\n 'Henry VI Part 2.csv',\n 'Henry VI Part 3.csv',\n 'Henry VIII.csv',\n 'Julius Caesar.csv',\n 'King John.csv',\n 'King Lear.csv',\n 'Loves Labours Lost.csv',\n 'macbeth.csv',\n 'Measure for measure.csv',\n 'Merchant of Venice.csv',\n 'Merry Wives of Windsor.csv',\n 'Much Ado about nothing.csv',\n 'Othello.csv',\n 'Pericles.csv',\n 'Richard II.csv',\n 'Richard III.csv',\n 'Romeo and Juliet.csv',\n 'Taming of the Shrew.csv',\n 'The Tempest.csv',\n 'Timon of Athens.csv',\n 'Titus Andronicus.csv',\n 'Troilus and Cressida.csv',\n 'Twelfth Night.csv',\n 'Two Gentlemen of Verona.csv']"
     },
     "execution_count": 5,
     "metadata": {},
     "output_type": "execute_result"
    }
   ],
   "source": [
    "os.listdir(\"ventas_comercial\") #lista los archivos de la carpeta"
   ],
   "metadata": {
    "collapsed": false,
    "pycharm": {
     "name": "#%%\n"
    }
   }
  },
  {
   "cell_type": "code",
   "execution_count": 7,
   "outputs": [],
   "source": [
    "path = \"ventas_comercial\""
   ],
   "metadata": {
    "collapsed": false,
    "pycharm": {
     "name": "#%%\n"
    }
   }
  },
  {
   "cell_type": "code",
   "execution_count": 8,
   "outputs": [],
   "source": [
    "files = [os.path.join(path, file) for file in os.listdir(path)] #variable de lista que incluye a tods los path de esos archivos. Para que te de el path, te une el path con el archivo \"join\", el general al archivo"
   ],
   "metadata": {
    "collapsed": false,
    "pycharm": {
     "name": "#%%\n"
    }
   }
  },
  {
   "cell_type": "code",
   "execution_count": 10,
   "outputs": [
    {
     "name": "stdout",
     "output_type": "stream",
     "text": [
      "['ventas_comercial\\\\A Comedy of Errors.csv', 'ventas_comercial\\\\A Midsummer nights dream.csv', 'ventas_comercial\\\\A Winters Tale.csv', 'ventas_comercial\\\\Alls well that ends well.csv', 'ventas_comercial\\\\Antony and Cleopatra.csv', 'ventas_comercial\\\\As you like it.csv', 'ventas_comercial\\\\Coriolanus.csv', 'ventas_comercial\\\\Cymbeline.csv', 'ventas_comercial\\\\Hamlet.csv', 'ventas_comercial\\\\Henry IV.csv', 'ventas_comercial\\\\Henry V.csv', 'ventas_comercial\\\\Henry VI Part 1.csv', 'ventas_comercial\\\\Henry VI Part 2.csv', 'ventas_comercial\\\\Henry VI Part 3.csv', 'ventas_comercial\\\\Henry VIII.csv', 'ventas_comercial\\\\Julius Caesar.csv', 'ventas_comercial\\\\King John.csv', 'ventas_comercial\\\\King Lear.csv', 'ventas_comercial\\\\Loves Labours Lost.csv', 'ventas_comercial\\\\macbeth.csv', 'ventas_comercial\\\\Measure for measure.csv', 'ventas_comercial\\\\Merchant of Venice.csv', 'ventas_comercial\\\\Merry Wives of Windsor.csv', 'ventas_comercial\\\\Much Ado about nothing.csv', 'ventas_comercial\\\\Othello.csv', 'ventas_comercial\\\\Pericles.csv', 'ventas_comercial\\\\Richard II.csv', 'ventas_comercial\\\\Richard III.csv', 'ventas_comercial\\\\Romeo and Juliet.csv', 'ventas_comercial\\\\Taming of the Shrew.csv', 'ventas_comercial\\\\The Tempest.csv', 'ventas_comercial\\\\Timon of Athens.csv', 'ventas_comercial\\\\Titus Andronicus.csv', 'ventas_comercial\\\\Troilus and Cressida.csv', 'ventas_comercial\\\\Twelfth Night.csv', 'ventas_comercial\\\\Two Gentlemen of Verona.csv']\n"
     ]
    }
   ],
   "source": [
    "print(files)"
   ],
   "metadata": {
    "collapsed": false,
    "pycharm": {
     "name": "#%%\n"
    }
   }
  },
  {
   "cell_type": "code",
   "execution_count": 11,
   "outputs": [],
   "source": [
    "df = pd.concat(map(pd.read_csv, files), ignore_index = True) #me lee todos los path y me los concatena"
   ],
   "metadata": {
    "collapsed": false,
    "pycharm": {
     "name": "#%%\n"
    }
   }
  },
  {
   "cell_type": "code",
   "execution_count": 13,
   "outputs": [
    {
     "data": {
      "text/plain": "        Unnamed: 0  Dataline                     Play  PlayerLinenumber  \\\n0            22427     22428       A Comedy of Errors             132.0   \n1            22428     22429       A Comedy of Errors             132.0   \n2            22429     22430       A Comedy of Errors             132.0   \n3            22430     22431       A Comedy of Errors               1.0   \n4            22431     22432       A Comedy of Errors               1.0   \n...            ...       ...                      ...               ...   \n111391      107902    107903  Two Gentlemen of Verona              52.0   \n111392      107903    107904  Two Gentlemen of Verona              52.0   \n111393      107904    107905  Two Gentlemen of Verona              52.0   \n111394      107905    107906  Two Gentlemen of Verona              52.0   \n111395      107906    107907  Two Gentlemen of Verona              52.0   \n\n       ActSceneLine           Player  \\\n0               NaN  OCTAVIUS CAESAR   \n1               NaN  OCTAVIUS CAESAR   \n2               NaN  OCTAVIUS CAESAR   \n3             1.1.1           AEGEON   \n4             1.1.2           AEGEON   \n...             ...              ...   \n111391      5.4.177        VALENTINE   \n111392      5.4.178        VALENTINE   \n111393      5.4.179        VALENTINE   \n111394      5.4.180        VALENTINE   \n111395          NaN        VALENTINE   \n\n                                               PlayerLine  \n0                                                   ACT I  \n1               SCENE I. A hall in DUKE SOLINUS'S palace.  \n2       Enter DUKE SOLINUS, AEGEON, Gaoler, Officers, ...  \n3                    Proceed, Solinus, to procure my fall  \n4              And by the doom of death end woes and all.  \n...                                                   ...  \n111391       Come, Proteus, 'tis your penance but to hear  \n111392                The story of your loves discovered:  \n111393     That done, our day of marriage shall be yours,  \n111394        One feast, one house, one mutual happiness.  \n111395                                             Exeunt  \n\n[111396 rows x 7 columns]",
      "text/html": "<div>\n<style scoped>\n    .dataframe tbody tr th:only-of-type {\n        vertical-align: middle;\n    }\n\n    .dataframe tbody tr th {\n        vertical-align: top;\n    }\n\n    .dataframe thead th {\n        text-align: right;\n    }\n</style>\n<table border=\"1\" class=\"dataframe\">\n  <thead>\n    <tr style=\"text-align: right;\">\n      <th></th>\n      <th>Unnamed: 0</th>\n      <th>Dataline</th>\n      <th>Play</th>\n      <th>PlayerLinenumber</th>\n      <th>ActSceneLine</th>\n      <th>Player</th>\n      <th>PlayerLine</th>\n    </tr>\n  </thead>\n  <tbody>\n    <tr>\n      <th>0</th>\n      <td>22427</td>\n      <td>22428</td>\n      <td>A Comedy of Errors</td>\n      <td>132.0</td>\n      <td>NaN</td>\n      <td>OCTAVIUS CAESAR</td>\n      <td>ACT I</td>\n    </tr>\n    <tr>\n      <th>1</th>\n      <td>22428</td>\n      <td>22429</td>\n      <td>A Comedy of Errors</td>\n      <td>132.0</td>\n      <td>NaN</td>\n      <td>OCTAVIUS CAESAR</td>\n      <td>SCENE I. A hall in DUKE SOLINUS'S palace.</td>\n    </tr>\n    <tr>\n      <th>2</th>\n      <td>22429</td>\n      <td>22430</td>\n      <td>A Comedy of Errors</td>\n      <td>132.0</td>\n      <td>NaN</td>\n      <td>OCTAVIUS CAESAR</td>\n      <td>Enter DUKE SOLINUS, AEGEON, Gaoler, Officers, ...</td>\n    </tr>\n    <tr>\n      <th>3</th>\n      <td>22430</td>\n      <td>22431</td>\n      <td>A Comedy of Errors</td>\n      <td>1.0</td>\n      <td>1.1.1</td>\n      <td>AEGEON</td>\n      <td>Proceed, Solinus, to procure my fall</td>\n    </tr>\n    <tr>\n      <th>4</th>\n      <td>22431</td>\n      <td>22432</td>\n      <td>A Comedy of Errors</td>\n      <td>1.0</td>\n      <td>1.1.2</td>\n      <td>AEGEON</td>\n      <td>And by the doom of death end woes and all.</td>\n    </tr>\n    <tr>\n      <th>...</th>\n      <td>...</td>\n      <td>...</td>\n      <td>...</td>\n      <td>...</td>\n      <td>...</td>\n      <td>...</td>\n      <td>...</td>\n    </tr>\n    <tr>\n      <th>111391</th>\n      <td>107902</td>\n      <td>107903</td>\n      <td>Two Gentlemen of Verona</td>\n      <td>52.0</td>\n      <td>5.4.177</td>\n      <td>VALENTINE</td>\n      <td>Come, Proteus, 'tis your penance but to hear</td>\n    </tr>\n    <tr>\n      <th>111392</th>\n      <td>107903</td>\n      <td>107904</td>\n      <td>Two Gentlemen of Verona</td>\n      <td>52.0</td>\n      <td>5.4.178</td>\n      <td>VALENTINE</td>\n      <td>The story of your loves discovered:</td>\n    </tr>\n    <tr>\n      <th>111393</th>\n      <td>107904</td>\n      <td>107905</td>\n      <td>Two Gentlemen of Verona</td>\n      <td>52.0</td>\n      <td>5.4.179</td>\n      <td>VALENTINE</td>\n      <td>That done, our day of marriage shall be yours,</td>\n    </tr>\n    <tr>\n      <th>111394</th>\n      <td>107905</td>\n      <td>107906</td>\n      <td>Two Gentlemen of Verona</td>\n      <td>52.0</td>\n      <td>5.4.180</td>\n      <td>VALENTINE</td>\n      <td>One feast, one house, one mutual happiness.</td>\n    </tr>\n    <tr>\n      <th>111395</th>\n      <td>107906</td>\n      <td>107907</td>\n      <td>Two Gentlemen of Verona</td>\n      <td>52.0</td>\n      <td>NaN</td>\n      <td>VALENTINE</td>\n      <td>Exeunt</td>\n    </tr>\n  </tbody>\n</table>\n<p>111396 rows × 7 columns</p>\n</div>"
     },
     "execution_count": 13,
     "metadata": {},
     "output_type": "execute_result"
    }
   ],
   "source": [
    "df"
   ],
   "metadata": {
    "collapsed": false,
    "pycharm": {
     "name": "#%%\n"
    }
   }
  },
  {
   "cell_type": "code",
   "execution_count": 15,
   "outputs": [
    {
     "data": {
      "text/plain": "111396"
     },
     "execution_count": 15,
     "metadata": {},
     "output_type": "execute_result"
    }
   ],
   "source": [
    "len(df)"
   ],
   "metadata": {
    "collapsed": false,
    "pycharm": {
     "name": "#%%\n"
    }
   }
  },
  {
   "cell_type": "code",
   "execution_count": 17,
   "outputs": [
    {
     "data": {
      "text/plain": "Index(['Unnamed: 0', 'Dataline', 'Play', 'PlayerLinenumber', 'ActSceneLine',\n       'Player', 'PlayerLine'],\n      dtype='object')"
     },
     "execution_count": 17,
     "metadata": {},
     "output_type": "execute_result"
    }
   ],
   "source": [
    "df.columns"
   ],
   "metadata": {
    "collapsed": false,
    "pycharm": {
     "name": "#%%\n"
    }
   }
  },
  {
   "cell_type": "code",
   "execution_count": 20,
   "outputs": [
    {
     "data": {
      "text/plain": "7"
     },
     "execution_count": 20,
     "metadata": {},
     "output_type": "execute_result"
    }
   ],
   "source": [
    "len(df.columns)"
   ],
   "metadata": {
    "collapsed": false,
    "pycharm": {
     "name": "#%%\n"
    }
   }
  },
  {
   "cell_type": "code",
   "execution_count": 21,
   "outputs": [
    {
     "name": "stdout",
     "output_type": "stream",
     "text": [
      "<class 'pandas.core.frame.DataFrame'>\n",
      "RangeIndex: 111396 entries, 0 to 111395\n",
      "Data columns (total 7 columns):\n",
      " #   Column            Non-Null Count   Dtype  \n",
      "---  ------            --------------   -----  \n",
      " 0   Unnamed: 0        111396 non-null  int64  \n",
      " 1   Dataline          111396 non-null  int64  \n",
      " 2   Play              111396 non-null  object \n",
      " 3   PlayerLinenumber  111393 non-null  float64\n",
      " 4   ActSceneLine      105153 non-null  object \n",
      " 5   Player            111389 non-null  object \n",
      " 6   PlayerLine        111396 non-null  object \n",
      "dtypes: float64(1), int64(2), object(4)\n",
      "memory usage: 5.9+ MB\n"
     ]
    }
   ],
   "source": [
    "df.info()"
   ],
   "metadata": {
    "collapsed": false,
    "pycharm": {
     "name": "#%%\n"
    }
   }
  }
 ],
 "metadata": {
  "kernelspec": {
   "display_name": "Python 3",
   "language": "python",
   "name": "python3"
  },
  "language_info": {
   "codemirror_mode": {
    "name": "ipython",
    "version": 2
   },
   "file_extension": ".py",
   "mimetype": "text/x-python",
   "name": "python",
   "nbconvert_exporter": "python",
   "pygments_lexer": "ipython2",
   "version": "2.7.6"
  }
 },
 "nbformat": 4,
 "nbformat_minor": 0
}